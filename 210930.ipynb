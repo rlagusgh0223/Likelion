{
  "nbformat": 4,
  "nbformat_minor": 0,
  "metadata": {
    "colab": {
      "name": "210930",
      "provenance": [],
      "authorship_tag": "ABX9TyNwWQd3HqhZ6yQV5hEhBg1I"
    },
    "kernelspec": {
      "name": "python3",
      "display_name": "Python 3"
    },
    "language_info": {
      "name": "python"
    }
  },
  "cells": [
    {
      "cell_type": "code",
      "metadata": {
        "colab": {
          "base_uri": "https://localhost:8080/"
        },
        "id": "9pwXmxtA8u_E",
        "outputId": "2b95b98c-acb8-40bc-81ff-525b67e8c89f"
      },
      "source": [
        "#logspace\n",
        "#x1, x2, n : 10^x1 과 10^x2사이에 등간격인 n개의 벡터를 생성\n",
        "import numpy as np\n",
        "np.logspace(1, 2, 9)    #10부터 100까지 9개의 등간격을 가진 수"
      ],
      "execution_count": 2,
      "outputs": [
        {
          "output_type": "execute_result",
          "data": {
            "text/plain": [
              "array([ 10.        ,  13.33521432,  17.7827941 ,  23.71373706,\n",
              "        31.6227766 ,  42.16965034,  56.23413252,  74.98942093,\n",
              "       100.        ])"
            ]
          },
          "metadata": {},
          "execution_count": 2
        }
      ]
    },
    {
      "cell_type": "code",
      "metadata": {
        "colab": {
          "base_uri": "https://localhost:8080/"
        },
        "id": "yxL2RvaA9dce",
        "outputId": "7e39fcb2-6fec-4b04-a68b-11815de1d302"
      },
      "source": [
        "#어제 마지막으로 푼 문제 모범답안\n",
        "#최소제곱법의 a와 b를 구하라\n",
        "#a = ((x-x의 평균)*(y-y의평균)의합) / (x-x평균)^2\n",
        "#b = y의 평균 - (x의 평균 * a)\n",
        "\n",
        "#numpy에서 mean은 평균값을 의미한다\n",
        "import numpy as np\n",
        "\n",
        "#x값과 y값\n",
        "x = [2, 4, 6, 8]\n",
        "y = [81, 93, 91, 97]\n",
        "\n",
        "#x와 y의 평균값\n",
        "mx = np.mean(x)\n",
        "my = np.mean(y)\n",
        "print(\"x의 평균값 :\", mx)\n",
        "print(\"y의 평균값 :\", my)\n",
        "\n",
        "#기울기 공식의 분모\n",
        "#(x-x평균)의 제곱의 합\n",
        "divisor = sum([(mx-i)**2 for i in x])\n",
        "\n",
        "#기울기 공식의 분자\n",
        "def top(x, mx, y, my):\n",
        "    d = 0\n",
        "    for i in range(len(x)):\n",
        "        d += (x[i] - mx) * (y[i] - my)\n",
        "    return d\n",
        "#dividend = top(x, mx, y, my)\n",
        "dividend = sum([(x[i] - mx)*(y[i] - my) for i in range(len(x))]) #위의것과 동일한 결과가 나온다.\n",
        "                                                 #x와 y는 길이가 같으니까 len(x)로 해도 위와 같은 식이 나온다.\n",
        "\n",
        "print(\"분모 :\", divisor)\n",
        "print(\"분자 :\", dividend)\n",
        "\n",
        "#기울기와 y절편 구하기\n",
        "a = dividend / divisor\n",
        "b = my - (mx*a)\n",
        "\n",
        "#출력으로 확인\n",
        "print(\"기울기 a =\", a)\n",
        "print(\"y 절편 b =\",b)"
      ],
      "execution_count": 3,
      "outputs": [
        {
          "output_type": "stream",
          "name": "stdout",
          "text": [
            "x의 평균값 : 5.0\n",
            "y의 평균값 : 90.5\n",
            "분모 : 20.0\n",
            "분자 : 46.0\n",
            "기울기 a = 2.3\n",
            "y 절편 b = 79.0\n"
          ]
        }
      ]
    },
    {
      "cell_type": "code",
      "metadata": {
        "colab": {
          "base_uri": "https://localhost:8080/"
        },
        "id": "tjxWaT5f9uG0",
        "outputId": "af43aed3-547c-4a4d-dc3a-e0d0af40cee6"
      },
      "source": [
        "#최소제곱 - 사육기간에 따른 물고기 크기\n",
        "#1) 15, 22, 77, 200주 후의 크기 예상\n",
        "x = [1, 2, 3, 4, 5, 6, 7, 8]\n",
        "y = [0.2, 0.3, 0.5, 0.6, 0.9, 0.95, 1.1, 1.5]\n",
        "mx = np.mean(x)\n",
        "my = np.mean(y)\n",
        "sun = sum([(x[i]-mx)*(y[i]-my) for i in range(len(x))])\n",
        "mom = sum([(mx-i)**2 for i in x])\n",
        "a = sun/mom\n",
        "b = my - (mx*a)\n",
        "\n",
        "X = [15, 22, 77, 200]\n",
        "Y = [(a * i + b) for i in X]\n",
        "\n",
        "for i in range(len(X)):\n",
        "  if Y[i] > 30:\n",
        "    Y[i] = 30.0\n",
        "  print(X[i], \"주차 : %.3f cm\"%Y[i])\n",
        "print()\n",
        "\n",
        "#2) 5주차 예상 크기와 실제 크기 차이\n",
        "fiveY = y[4] - (a*5 + b)\n",
        "print(\"5주차 예상 크기와 실제 크기 차이 : %.3f cm\"%fiveY)\n",
        "\n",
        "#3) 모든 소수점 이하 자리수는 3자리 round(실수, n)"
      ],
      "execution_count": 5,
      "outputs": [
        {
          "output_type": "stream",
          "name": "stdout",
          "text": [
            "15 주차 : 2.600 cm\n",
            "22 주차 : 3.829 cm\n",
            "77 주차 : 13.487 cm\n",
            "200 주차 : 30.000 cm\n",
            "\n",
            "5주차 예상 크기와 실제 크기 차이 : 0.056 cm\n"
          ]
        }
      ]
    },
    {
      "cell_type": "code",
      "metadata": {
        "colab": {
          "base_uri": "https://localhost:8080/"
        },
        "id": "YUcNGLTX-Usw",
        "outputId": "ea293a55-f5e4-4878-951b-3113fdf358c6"
      },
      "source": [
        "#모범답안\n",
        "maxSize = 30\n",
        "xData = [1, 2, 3, 4, 5, 6, 7, 8]\n",
        "yData = [0.2, 0.3, 0.5, 0.6, 0.9, 0.95, 1.1, 1.5]\n",
        "xAvg = np.mean(xData)\n",
        "yAvg = np.mean(yData)\n",
        "print(\"x평균 :\", xAvg)\n",
        "print(\"y평균 :\", yAvg)\n",
        "\n",
        "#분모\n",
        "divisor = sum([(i - xAvg) ** 2 for i in xData])\n",
        "\n",
        "#분자\n",
        "dividend = 0\n",
        "for i in range(len(xData)):\n",
        "    dividend += (xData[i] - xAvg) * (yData[i] - yAvg)\n",
        "\n",
        "#기울기\n",
        "a = dividend / divisor\n",
        "\n",
        "#y절편\n",
        "b = yAvg - (xAvg * a)\n",
        "\n",
        "print(\"분모 :\",divisor)\n",
        "print(\"분자 :\",dividend)\n",
        "print(\"기울기 :\", a)\n",
        "print(\"y절편 :\", b)\n",
        "\n",
        "def sizeof(x):    #물고기 사이즈는 최대 30cm 로 가정\n",
        "    global maxSize\n",
        "    v = a*x + b\n",
        "    #return maxSize if v > maxSize else round(v, 3)    #maxSize(30)가 v(예상크기)보다 작으면 maxSize 출력, 아니면 v출력(실수3자리로)\n",
        "    #위 식은 다음과 같다\n",
        "    if v < maxSize:\n",
        "        v = round(v, 3)\n",
        "    else:\n",
        "        v = maxSize\n",
        "    return v\n",
        "\n",
        "\n",
        "print(\"15주 후의 크기 :\", sizeof(15), \"cm\")\n",
        "print(\"22주 후의 크기 :\", sizeof(22), \"cm\")\n",
        "print(\"77주 후의 크기 :\", sizeof(77), \"cm\")\n",
        "print(\"200주 후의 크기 :\", sizeof(200), \"cm\")\n",
        "print(\"5주차 예상치와 차이 : \",round(0.9 - sizeof(5), 3), \"cm\")"
      ],
      "execution_count": 6,
      "outputs": [
        {
          "output_type": "stream",
          "name": "stdout",
          "text": [
            "x평균 : 4.5\n",
            "y평균 : 0.7562500000000001\n",
            "분모 : 42.0\n",
            "분자 : 7.375\n",
            "기울기 : 0.17559523809523808\n",
            "y절편 : -0.03392857142857131\n",
            "15주 후의 크기 : 2.6 cm\n",
            "22주 후의 크기 : 3.829 cm\n",
            "77주 후의 크기 : 13.487 cm\n",
            "200주 후의 크기 : 30 cm\n",
            "5주차 예상치와 차이 :  0.056 cm\n"
          ]
        }
      ]
    },
    {
      "cell_type": "code",
      "metadata": {
        "colab": {
          "base_uri": "https://localhost:8080/"
        },
        "id": "Icjo6WMw-7Jf",
        "outputId": "cd122cca-432f-45c1-8bc6-e9550977b0ca"
      },
      "source": [
        "#루트를 구하는 함수 : np.sqrt()\n",
        "#평균 제곱근 공식 : np.sqrt( ( (p-a)**2.mean() )\n",
        "#실제값과 예측값의 차 구하는 평균 제곱근 오차\n",
        "#a는 3, b는 76\n",
        "x = [2, 4, 6, 8]\n",
        "real = [81, 93, 91, 97]\n",
        "rmse = 0\n",
        "\n",
        "for i in range(len(x)):\n",
        "  Y = 3*x[i] + 76\n",
        "  n = real[i] - Y\n",
        "  rmse += n**2\n",
        "\n",
        "print(\"rmse 최종값 : \", np.sqrt(rmse/len(x)))"
      ],
      "execution_count": 7,
      "outputs": [
        {
          "output_type": "stream",
          "name": "stdout",
          "text": [
            "rmse 최종값 :  3.3166247903554\n"
          ]
        }
      ]
    },
    {
      "cell_type": "code",
      "metadata": {
        "colab": {
          "base_uri": "https://localhost:8080/"
        },
        "id": "pTj5C-ny_aB2",
        "outputId": "b5f5e31e-0c9d-42cc-aeaf-43e23381cdda"
      },
      "source": [
        "#모범답안\n",
        "#기울기 a와 y절편 b\n",
        "ab = [3, 76]\n",
        "\n",
        "#x, y의 데이터 값\n",
        "data = [[2,81], [4,93], [6,91], [8,97]]\n",
        "x = [i[0] for i in data]\n",
        "y = [i[1] for i in data]\n",
        "\n",
        "# y = ax + b에 a와 b값을 대입하여 결과를 출력하는 함수\n",
        "def predict(x):\n",
        "    return ab[0] * x + ab[1]\n",
        "\n",
        "#RMSE 함수\n",
        "def rmse(p, a):\n",
        "    return np.sqrt( ( (p-a)**2 ).mean() )\n",
        "\n",
        "#RMSE 함수를 각 y값에 대입하여 최종 값을 구하는 함수\n",
        "def rmse_val(predict_result, y):\n",
        "    return rmse(np.array(predict_result), np.array(y))\n",
        "\n",
        "#예측 값이 들어갈 빈 리스트\n",
        "predict_result = []\n",
        "\n",
        "#모든 x값을 한 번씩 대입하여\n",
        "for i in range(len(x)):\n",
        "    #predict_result 리스트를 완성한다\n",
        "    predict_result.append(predict(x[i]))\n",
        "    print(\"공부한 시간 = %.f, 실제 점수 = %.f, 예측 점수 = %.f\" %(x[i], y[i], predict(x[i])))\n",
        "\n",
        "#for문을 통해 만들어진 예측값과 실제값 확인해보기\n",
        "print(predict_result)\n",
        "print(y)\n",
        "\n",
        "#최종 RMSE출력\n",
        "print(\"rmse 최종값 :\" + str(rmse_val(predict_result,y)))"
      ],
      "execution_count": 8,
      "outputs": [
        {
          "output_type": "stream",
          "name": "stdout",
          "text": [
            "공부한 시간 = 2, 실제 점수 = 81, 예측 점수 = 82\n",
            "공부한 시간 = 4, 실제 점수 = 93, 예측 점수 = 88\n",
            "공부한 시간 = 6, 실제 점수 = 91, 예측 점수 = 94\n",
            "공부한 시간 = 8, 실제 점수 = 97, 예측 점수 = 100\n",
            "[82, 88, 94, 100]\n",
            "[81, 93, 91, 97]\n",
            "rmse 최종값 :3.3166247903554\n"
          ]
        }
      ]
    },
    {
      "cell_type": "code",
      "metadata": {
        "colab": {
          "base_uri": "https://localhost:8080/"
        },
        "id": "aZQJF2Zo_njm",
        "outputId": "2b71673a-0b86-4484-b9af-95e098b0f9df"
      },
      "source": [
        "#물고기 사육주수 data를 통해 실제 예측값의 평균 제곱근 오차 구하기\n",
        "data = [[1,0.2], [2,0.3], [3,0.5], [4,0.6], [5,0.9], [6,0.95], [7,1.1], [8,1.5]]\n",
        "x = [i[0] for i in data]\n",
        "y = [i[1] for i in data]\n",
        "ab = [0.1756, -0.03392]\n",
        "result = []\n",
        "\n",
        "def rmse(p, a):\n",
        "  return np.sqrt( ( (p-a)**2).mean() )\n",
        "\n",
        "for i in range(len(x)):\n",
        "  result.append(ab[0]*x[i] + ab[1])\n",
        "\n",
        "ans = rmse(np.array(result), np.array(y))\n",
        "print(ans)\n",
        "\n",
        "#다른 풀이\n",
        "#append는 용량이 많이 드니까 미리 리스트를 0으로 작성하고 만들어봤다\n",
        "data = [[1,0.2], [2,0.3], [3,0.5], [4,0.6], [5,0.9], [6,0.95], [7,1.1], [8,1.5]]\n",
        "x = [i[0] for i in data]\n",
        "y = [i[1] for i in data]\n",
        "ab = [0.1756, -0.03392]\n",
        "result = np.zeros(len(data))\n",
        "\n",
        "def rmse(p, a):\n",
        "  return np.sqrt( ( (p-a)**2).mean() )\n",
        "\n",
        "for i in range(len(x)):\n",
        "  result[i] = ab[0]*x[i] + ab[1]\n",
        "\n",
        "ans = rmse(np.array(result), np.array(y))\n",
        "print(ans)"
      ],
      "execution_count": 9,
      "outputs": [
        {
          "output_type": "stream",
          "name": "stdout",
          "text": [
            "0.07260563614486139\n",
            "0.07260563614486139\n"
          ]
        }
      ]
    },
    {
      "cell_type": "code",
      "metadata": {
        "colab": {
          "base_uri": "https://localhost:8080/"
        },
        "id": "lIanYQOtBMCv",
        "outputId": "99c5adc9-7ee8-4ff4-82e6-ebbd9b67b814"
      },
      "source": [
        "#모범답안\n",
        "ab = [0.1756, -0.03392]\n",
        "data = [[1,0.2], [2,0.3], [3,0.5], [4,0.6], [5,0.9], [6,0.95], [7,1.1], [8,1.5]]\n",
        "x = [i[0] for i in data]\n",
        "y = [i[1] for i in data]\n",
        "\n",
        "#y = ax + b에 a와 b 값을 대입하여 결과를 출력하는 ㅎ마수\n",
        "def predict(x):\n",
        "    return ab[0] * x + ab[1]\n",
        "\n",
        "#RMSE함수\n",
        "def rmse(p, a):\n",
        "    return np.sqrt( ( (p-a)**2 ).mean() )\n",
        "\n",
        "#RMSE함수를 각 y값에 대입하여 최종 값을 구하는 ㅎ마수\n",
        "def rmse_val(predict_result, y):\n",
        "    return rmse(np.array(predict_result), np.array(y))\n",
        "\n",
        "#예측 값이 들어간 빈 리스트\n",
        "predict_result = []\n",
        "\n",
        "#모든 x값을 한번씩 대입하여\n",
        "for i in range(len(x)):\n",
        "    #predict_result 리스트를 완성한다\n",
        "    predict_result.append(predict(x[i]))\n",
        "    print(\"주수 = %.f, 실제 크기 = %.2f, 예측 크기 = %.2f\" %(x[i], y[i], predict(x[i])))\n",
        "\n",
        "#for문을 통해 만들어진 예측값과 실제값 확인해보기\n",
        "print(predict_result)\n",
        "print(y)\n",
        "\n",
        "#최종 RMSE 출력\n",
        "print(\"rmse 최종값 : \" + str(rmse_val(predict_result,y)))"
      ],
      "execution_count": 10,
      "outputs": [
        {
          "output_type": "stream",
          "name": "stdout",
          "text": [
            "주수 = 1, 실제 크기 = 0.20, 예측 크기 = 0.14\n",
            "주수 = 2, 실제 크기 = 0.30, 예측 크기 = 0.32\n",
            "주수 = 3, 실제 크기 = 0.50, 예측 크기 = 0.49\n",
            "주수 = 4, 실제 크기 = 0.60, 예측 크기 = 0.67\n",
            "주수 = 5, 실제 크기 = 0.90, 예측 크기 = 0.84\n",
            "주수 = 6, 실제 크기 = 0.95, 예측 크기 = 1.02\n",
            "주수 = 7, 실제 크기 = 1.10, 예측 크기 = 1.20\n",
            "주수 = 8, 실제 크기 = 1.50, 예측 크기 = 1.37\n",
            "[0.14168, 0.31728, 0.49288000000000004, 0.6684800000000001, 0.84408, 1.0196800000000001, 1.1952800000000001, 1.37088]\n",
            "[0.2, 0.3, 0.5, 0.6, 0.9, 0.95, 1.1, 1.5]\n",
            "rmse 최종값 : 0.07260563614486139\n"
          ]
        }
      ]
    },
    {
      "cell_type": "code",
      "metadata": {
        "colab": {
          "base_uri": "https://localhost:8080/",
          "height": 954
        },
        "id": "fLzH4atUBQUZ",
        "outputId": "66338895-bf03-4627-b346-46ac74982707"
      },
      "source": [
        "#경사하강법 실습\n",
        "import numpy as np\n",
        "import pandas as pd\n",
        "import matplotlib.pyplot as plt\n",
        "\n",
        "#공부시간 x와 성적 y의 리스트 만들기\n",
        "data = [[2, 81], [4, 93], [6, 91], [8, 97]]\n",
        "x = [i[0] for i in data]\n",
        "y = [i[1] for i in data]\n",
        "\n",
        "#그래프로 나타내기\n",
        "plt.figure(figsize = (8, 5))    #그림 그리는 영역 만들기\n",
        "plt.scatter(x, y)\n",
        "plt.show()    #차트를 실제 화면에 표시\n",
        "\n",
        "#리스트로 되어 있는 x와 y값을 넘파이 배열로 바꾸기\n",
        "#인덱스를 주어 하나씩 불러와 계산이 가능하게 하기 위함\n",
        "x_data = np.array(x)\n",
        "y_data = np.array(y)\n",
        "\n",
        "#기울기 a와 절편 b의 값 초기화\n",
        "a = 0\n",
        "b = 0\n",
        "\n",
        "#학습륙 정하기\n",
        "lr = 0.01\n",
        "\n",
        "#몇번 반복될지 설정(0부터 세므로 원하는 반복수 + 1)\n",
        "epochs = 2001\n",
        "\n",
        "#경사 하강법 시작\n",
        "for i in range(epochs):    #에포크 수만큼 반복\n",
        "  y_pred = a * x_data + b    #y를 구하는 식 세우기\n",
        "  error = y_data - y_pred    #오차를 구하는 식\n",
        "\n",
        "  #오차 함수를 a로 미분한 값(오차를 구하는 식, 오차가 0이 될때까지 조정)\n",
        "  a_diff = 2/len(x_data) * sum((a * x_data + b - y_data) * x_data)\n",
        "\n",
        "  #오차 함수를 b로 미분한 값\n",
        "  b_diff = 2/len(x_data) * sum(a * x_data + b - y_data)\n",
        "\n",
        "  a = a - lr * a_diff    #학습률을 곱해 기존의 a값 업데이트\n",
        "  b = b - lr * b_diff    #학습률을 곱해 기존의 b값 업데이트\n",
        "\n",
        "  if i%100 == 0:    #100번 반복될 때마다 현재의 a값, b값 출력\n",
        "    print(\"epoch = %.f, 기울기 = %.04f, 절편 = %.04f\" %(i,a,b))\n",
        "\n",
        "#앞서 구한 기울기와 절편을 이용해 그래프 다시 그리기\n",
        "y_pred = a * x_data + b\n",
        "plt.scatter(x, y)\n",
        "plt.plot([min(x_data), max(x_data)], [min(y_pred), max(y_pred)])\n",
        "          #plot() : 값을 서로 연결해서 라인 형태의 그래프를 그리는 함수\n",
        "plt.show()"
      ],
      "execution_count": 12,
      "outputs": [
        {
          "output_type": "display_data",
          "data": {
            "image/png": "[encoded data removed]",
            "text/plain": [
              "<Figure size 576x360 with 1 Axes>"
            ]
          },
          "metadata": {
            "needs_background": "light"
          }
        },
        {
          "output_type": "stream",
          "name": "stdout",
          "text": [
            "epoch = 0, 기울기 = 9.2800, 절편 = 1.8100\n",
            "epoch = 100, 기울기 = 11.5301, 절편 = 23.9186\n",
            "epoch = 200, 기울기 = 8.9703, 절편 = 39.1944\n",
            "epoch = 300, 기울기 = 7.1204, 절편 = 50.2337\n",
            "epoch = 400, 기울기 = 5.7836, 절편 = 58.2115\n",
            "epoch = 500, 기울기 = 4.8175, 절편 = 63.9768\n",
            "epoch = 600, 기울기 = 4.1193, 절편 = 68.1432\n",
            "epoch = 700, 기울기 = 3.6148, 절편 = 71.1541\n",
            "epoch = 800, 기울기 = 3.2501, 절편 = 73.3300\n",
            "epoch = 900, 기울기 = 2.9866, 절편 = 74.9025\n",
            "epoch = 1000, 기울기 = 2.7962, 절편 = 76.0388\n",
            "epoch = 1100, 기울기 = 2.6586, 절편 = 76.8601\n",
            "epoch = 1200, 기울기 = 2.5591, 절편 = 77.4535\n",
            "epoch = 1300, 기울기 = 2.4873, 절편 = 77.8824\n",
            "epoch = 1400, 기울기 = 2.4353, 절편 = 78.1924\n",
            "epoch = 1500, 기울기 = 2.3978, 절편 = 78.4163\n",
            "epoch = 1600, 기울기 = 2.3707, 절편 = 78.5782\n",
            "epoch = 1700, 기울기 = 2.3511, 절편 = 78.6952\n",
            "epoch = 1800, 기울기 = 2.3369, 절편 = 78.7797\n",
            "epoch = 1900, 기울기 = 2.3267, 절편 = 78.8408\n",
            "epoch = 2000, 기울기 = 2.3193, 절편 = 78.8850\n"
          ]
        },
        {
          "output_type": "display_data",
          "data": {
            "image/png": "[encoded data removed]",
            "text/plain": [
              "<Figure size 432x288 with 1 Axes>"
            ]
          },
          "metadata": {
            "needs_background": "light"
          }
        }
      ]
    }
  ]
}