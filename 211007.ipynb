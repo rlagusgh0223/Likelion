{
  "nbformat": 4,
  "nbformat_minor": 0,
  "metadata": {
    "colab": {
      "name": "211007",
      "provenance": [],
      "authorship_tag": "ABX9TyPBoQNPuEcWqK76OxObfJTa"
    },
    "kernelspec": {
      "name": "python3",
      "display_name": "Python 3"
    },
    "language_info": {
      "name": "python"
    }
  },
  "cells": [
    {
      "cell_type": "code",
      "metadata": {
        "colab": {
          "base_uri": "https://localhost:8080/"
        },
        "id": "7a3kNs_Wbmvz",
        "outputId": "fbc0c531-2d8a-4705-9d39-9c832bbb96f2"
      },
      "source": [
        "#배열의 크기 변형\n",
        "import numpy as np\n",
        "a = np.arange(12)\n",
        "print(a)\n",
        "b = a.reshape(3,4)\n",
        "print(b)"
      ],
      "execution_count": 1,
      "outputs": [
        {
          "output_type": "stream",
          "name": "stdout",
          "text": [
            "[ 0  1  2  3  4  5  6  7  8  9 10 11]\n",
            "[[ 0  1  2  3]\n",
            " [ 4  5  6  7]\n",
            " [ 8  9 10 11]]\n"
          ]
        }
      ]
    },
    {
      "cell_type": "code",
      "metadata": {
        "colab": {
          "base_uri": "https://localhost:8080/"
        },
        "id": "anzze3f3bzuj",
        "outputId": "cfb536b6-6b61-42aa-b012-861f4ed403c5"
      },
      "source": [
        "#하나는 -1을 쓸 수 있는데, 그럼 칸을 알아서 맞춰준다\n",
        "print(a.reshape(3, -1))\n",
        "print(a.reshape(2,2,-1))"
      ],
      "execution_count": 2,
      "outputs": [
        {
          "output_type": "stream",
          "name": "stdout",
          "text": [
            "[[ 0  1  2  3]\n",
            " [ 4  5  6  7]\n",
            " [ 8  9 10 11]]\n",
            "[[[ 0  1  2]\n",
            "  [ 3  4  5]]\n",
            "\n",
            " [[ 6  7  8]\n",
            "  [ 9 10 11]]]\n"
          ]
        }
      ]
    },
    {
      "cell_type": "code",
      "metadata": {
        "colab": {
          "base_uri": "https://localhost:8080/"
        },
        "id": "fNkWMREKb_fZ",
        "outputId": "36550418-b906-4e6c-9f38-2386f00b8214"
      },
      "source": [
        "#다차원 배열을 무조건 1차원으로 펼치기 위해서는 flatten이나 ravel\n",
        "print(a.flatten())\n",
        "print(a.reshape(2,2,-1))\n",
        "print(a.ravel())"
      ],
      "execution_count": 3,
      "outputs": [
        {
          "output_type": "stream",
          "name": "stdout",
          "text": [
            "[ 0  1  2  3  4  5  6  7  8  9 10 11]\n",
            "[[[ 0  1  2]\n",
            "  [ 3  4  5]]\n",
            "\n",
            " [[ 6  7  8]\n",
            "  [ 9 10 11]]]\n",
            "[ 0  1  2  3  4  5  6  7  8  9 10 11]\n"
          ]
        }
      ]
    },
    {
      "cell_type": "code",
      "metadata": {
        "colab": {
          "base_uri": "https://localhost:8080/"
        },
        "id": "U3kM-u4BcPsY",
        "outputId": "3ce04dbd-8c2b-472a-a182-1e8f4b8e2578"
      },
      "source": [
        "#numpy 배열 복제\n",
        "#numpy배열은 list, tuple과 동일하게 복사하여 변경할 경우, 원본의 값도 변경된다\n",
        "#numpy배열.copy()를 통하여 복제할 경우, 원본과 별개의 배열이 생성된다\n",
        "import numpy as np\n",
        "a = np.array([1,2,3,4,5])\n",
        "b = a\n",
        "c = a.copy()\n",
        "b[0] = 99\n",
        "print(a)\n",
        "print(b)\n",
        "print(c)"
      ],
      "execution_count": 5,
      "outputs": [
        {
          "output_type": "stream",
          "name": "stdout",
          "text": [
            "[99  2  3  4  5]\n",
            "[99  2  3  4  5]\n",
            "[1 2 3 4 5]\n"
          ]
        }
      ]
    },
    {
      "cell_type": "code",
      "metadata": {
        "colab": {
          "base_uri": "https://localhost:8080/"
        },
        "id": "xdj9YodmcqEi",
        "outputId": "9383ab10-b58c-4ed2-9616-5a8f1fc54d1c"
      },
      "source": [
        "#배열과 리스트의 벡터연산\n",
        "import numpy as np\n",
        "a = [1,2,3,4,5]\n",
        "b = np.array(a)\n",
        "c = np.array([1,3,5])\n",
        "print(a*2)\n",
        "print(b*2)\n",
        "print(c+3)"
      ],
      "execution_count": 6,
      "outputs": [
        {
          "output_type": "stream",
          "name": "stdout",
          "text": [
            "[1, 2, 3, 4, 5, 1, 2, 3, 4, 5]\n",
            "[ 2  4  6  8 10]\n",
            "[4 6 8]\n"
          ]
        }
      ]
    },
    {
      "cell_type": "code",
      "metadata": {
        "colab": {
          "base_uri": "https://localhost:8080/"
        },
        "id": "HJVYs1amc6pp",
        "outputId": "259d0671-94e0-4d35-8a51-ff01007291d4"
      },
      "source": [
        "#다차원 배열\n",
        "import numpy as np\n",
        "a = np.array([[1,2,3],[4,5,6],[7,8,9]])\n",
        "b = np.array([[[1,2],[3,4]],[[5,6],[7,8]],[[9,10],[11,12]]])\n",
        "print(a)\n",
        "print(b)\n",
        "print(a[0][1])\n",
        "print(b[0][1][1])"
      ],
      "execution_count": 7,
      "outputs": [
        {
          "output_type": "stream",
          "name": "stdout",
          "text": [
            "[[1 2 3]\n",
            " [4 5 6]\n",
            " [7 8 9]]\n",
            "[[[ 1  2]\n",
            "  [ 3  4]]\n",
            "\n",
            " [[ 5  6]\n",
            "  [ 7  8]]\n",
            "\n",
            " [[ 9 10]\n",
            "  [11 12]]]\n",
            "2\n",
            "4\n"
          ]
        }
      ]
    },
    {
      "cell_type": "code",
      "metadata": {
        "colab": {
          "base_uri": "https://localhost:8080/"
        },
        "id": "L5SDJsmbdOFZ",
        "outputId": "5a04779c-3f64-44cd-eaa3-2dcda8f687e9"
      },
      "source": [
        "#모든 값이 1인 배열 ones_like\n",
        "#모든 값이 0인 배열 zeros_like\n",
        "import numpy as np\n",
        "a = np.ones((2,2), dtype=int)\n",
        "b = [1,2,3,4,5]\n",
        "c = np.ones_like(b, dtype=int)    #배열의 크기는 b와 동일하며, 그 내용은 1로 채운다\n",
        "print(a)\n",
        "print(b)\n",
        "print(c)"
      ],
      "execution_count": 8,
      "outputs": [
        {
          "output_type": "stream",
          "name": "stdout",
          "text": [
            "[[1 1]\n",
            " [1 1]]\n",
            "[1, 2, 3, 4, 5]\n",
            "[1 1 1 1 1]\n"
          ]
        }
      ]
    },
    {
      "cell_type": "code",
      "metadata": {
        "colab": {
          "base_uri": "https://localhost:8080/"
        },
        "id": "-HP2MkwMdlKC",
        "outputId": "6b0e4ee6-6fe6-4eab-91c2-a0390d3f5347"
      },
      "source": [
        "#모든 값이 비어있는 배열\n",
        "import numpy as np\n",
        "a = np.empty((2,2), dtype=int)\n",
        "b = [1,2,3,4,5]\n",
        "c = np.empty_like(b, dtype=int)\n",
        "print(a)\n",
        "print(b)\n",
        "print(c)"
      ],
      "execution_count": 9,
      "outputs": [
        {
          "output_type": "stream",
          "name": "stdout",
          "text": [
            "[[4607182418800017408 4607182418800017408]\n",
            " [4607182418800017408                   0]]\n",
            "[1, 2, 3, 4, 5]\n",
            "[99  2  3  4  5]\n"
          ]
        }
      ]
    },
    {
      "cell_type": "code",
      "metadata": {
        "colab": {
          "base_uri": "https://localhost:8080/"
        },
        "id": "nLNMHv2kd0vB",
        "outputId": "79501701-6396-4866-9fe5-48c8c37c26dc"
      },
      "source": [
        "#대각의 값이 1인 배열(단위행렬)\n",
        "a = np.identity(4, dtype=int)\n",
        "b = np.eye(4, 4, k=1, dtype=int)    #k가 음수면 왼쪽 아래방향을 간다\n",
        "print(a)\n",
        "print(b)"
      ],
      "execution_count": 10,
      "outputs": [
        {
          "output_type": "stream",
          "name": "stdout",
          "text": [
            "[[1 0 0 0]\n",
            " [0 1 0 0]\n",
            " [0 0 1 0]\n",
            " [0 0 0 1]]\n",
            "[[0 1 0 0]\n",
            " [0 0 1 0]\n",
            " [0 0 0 1]\n",
            " [0 0 0 0]]\n"
          ]
        }
      ]
    }
  ]
}