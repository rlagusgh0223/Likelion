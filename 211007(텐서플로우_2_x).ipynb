{
  "nbformat": 4,
  "nbformat_minor": 0,
  "metadata": {
    "colab": {
      "name": "211007(텐서플로우 2.x)",
      "provenance": [],
      "authorship_tag": "ABX9TyPnQhElX4sVDbmuFWSd2xdE"
    },
    "kernelspec": {
      "name": "python3",
      "display_name": "Python 3"
    },
    "language_info": {
      "name": "python"
    }
  },
  "cells": [
    {
      "cell_type": "code",
      "metadata": {
        "colab": {
          "base_uri": "https://localhost:8080/"
        },
        "id": "G62pW3ma8W9r",
        "outputId": "e2dedf10-817d-4fc7-911f-cf44e30c8f83"
      },
      "source": [
        "#어제 다중선형회귀 1.x -> 2.x 모범답안\n",
        "import tensorflow as tf\n",
        "from datetime import datetime #텐서보드 위해\n",
        "\n",
        "#x, y의 데이터 값\n",
        "data = [[2, 0, 81], [4, 4, 93], [6, 2, 91], [8, 3, 97]]\n",
        "x1 = [x_row1[0] for x_row1 in data]\n",
        "x2 = [x_row2[1] for x_row2 in data]\n",
        "y_data = [y_row[2] for y_row in data]\n",
        "a1 = tf.Variable(tf.random.uniform([1], 0, 10, dtype=tf.float64, seed=0))\n",
        "a2 = tf.Variable(tf.random.uniform([1], 0, 10, dtype=tf.float64, seed=0))\n",
        "b = tf.Variable(tf.random.uniform([1], 0, 100, dtype=tf.float64, seed=0))\n",
        "\n",
        "def hyp(a1, a2, b):\n",
        "  return a1*x1 + a2*x2 + b\n",
        "@tf.function #텐서보드 위해\n",
        "def cost(a1, a2, b):\n",
        "  return tf.sqrt(tf.reduce_mean(tf.square(hyp(a1, a2, b) - y_data)))\n",
        "def costFunc():\n",
        "  return tf.sqrt(tf.reduce_mean(tf.square(hyp(a1, a2, b) - y_data)))\n",
        "\n",
        "#===========================텐서보드 위해============================\n",
        "stamp = datetime.now().strftime(\"%Y%m%d - %H%M%S\")\n",
        "logdir = 'logs/mylogs/%s' % stamp\n",
        "writer = tf.summary.create_file_writer(logdir)\n",
        "tf.summary.trace_on(graph=True, profiler=True)\n",
        "costFunc()\n",
        "with writer.as_default():    #그래프 추가\n",
        "  tf.summary.trace_export(name='graph_t1', step=0, profiler_outdir=logdir)\n",
        "#====================================================================\n",
        "opt = tf.keras.optimizers.SGD(learning_rate = 0.1)\n",
        "for i in range(5000):    #steps\n",
        "  opt.minimize(costFunc, var_list=[a1, a2, b])\n",
        "  if i%500 == 0:\n",
        "    print(i, f'{cost(a1,a2,b)}, {a1.numpy()}, {a2.numpy()}, {b.numpy()}')"
      ],
      "execution_count": 3,
      "outputs": [
        {
          "output_type": "stream",
          "name": "stdout",
          "text": [
            "0 17.86471264179654, [4.96852536], [0.50657417], [81.05836373]\n",
            "500 1.8370056399299115, [1.22539724], [2.16164355], [77.8440204]\n",
            "1000 1.837006049616718, [1.23003928], [2.16324558], [77.81209892]\n",
            "1500 1.8370060496868685, [1.23010011], [2.16326659], [77.81168123]\n",
            "2000 1.8370060496868796, [1.23010091], [2.16326686], [77.81167576]\n",
            "2500 1.8370060496868996, [1.23010092], [2.16326687], [77.81167569]\n",
            "3000 1.837006049686887, [1.23010092], [2.16326687], [77.81167569]\n",
            "3500 1.8370060496868645, [1.23010092], [2.16326687], [77.81167569]\n",
            "4000 1.8370060496868645, [1.23010092], [2.16326687], [77.81167569]\n",
            "4500 1.8370060496868645, [1.23010092], [2.16326687], [77.81167569]\n"
          ]
        }
      ]
    },
    {
      "cell_type": "code",
      "metadata": {
        "colab": {
          "base_uri": "https://localhost:8080/"
        },
        "id": "H9IjSn5o-UmH",
        "outputId": "84eb1e4d-bf0f-4824-da5d-201876d4c4e7"
      },
      "source": [
        "#로지스틱 회귀\n",
        "# 1.x 에서 한 문제 2.x에서 작성\n",
        "import tensorflow as tf\n",
        "import numpy as np\n",
        "\n",
        "# x, y의 데이터 값\n",
        "data = [[2, 0], [4, 0], [6, 0], [8, 1], [10, 1], [12, 1], [14,1]]\n",
        "x_data = [x_row[0] for x_row in data]\n",
        "y_data = [y_row[1] for y_row in data]\n",
        "\n",
        "# a와 b의 값을 임의로 정한다\n",
        "a = tf.Variable(tf.random.normal([1], dtype=tf.float64, seed=0))\n",
        "b = tf.Variable(tf.random.normal([1], dtype=tf.float64, seed=0))\n",
        "\n",
        "def hyp(a, b):    #시그모이드 함수의 방정식을 세움\n",
        "    return 1 / (1+np.e**-(a*x_data + b))\n",
        "def cost(a, b):    #loss를 구하는 함수\n",
        "    return -tf.reduce_mean(np.array(y_data) * tf.math.log(hyp(a, b)) + (1 - np.array(y_data)) * tf.math.log(1 - hyp(a, b)))\n",
        "def costFunc():    #loss를 구하는 함수\n",
        "    return -tf.reduce_mean(np.array(y_data) * tf.math.log(hyp(a, b)) + (1 - np.array(y_data)) * tf.math.log(1 - hyp(a, b)))\n",
        "\n",
        "#rmse 값을 최소로 하는값 찾기\n",
        "opt = tf.keras.optimizers.SGD(learning_rate = 0.5)\n",
        "for i in range(60001):    #steps\n",
        "    opt.minimize(costFunc, var_list=[a, b])\n",
        "    if i%6000 == 0:\n",
        "        print(i, f'{cost(a, b)}, {a.numpy()}, {b.numpy()}')"
      ],
      "execution_count": 4,
      "outputs": [
        {
          "output_type": "stream",
          "name": "stdout",
          "text": [
            "0 4.199030941448979, [2.45719506], [-0.03358081]\n",
            "6000 0.015169095084797109, [2.92268135], [-20.30933691]\n",
            "12000 0.00806303853198041, [3.56459439], [-24.8069916]\n",
            "18000 0.005471605176845549, [3.95630493], [-27.55039467]\n",
            "24000 0.00413523052478854, [4.23846392], [-29.52621989]\n",
            "30000 0.0033213773987574467, [4.45894767], [-31.07003192]\n",
            "36000 0.0027742122421688695, [4.63985768], [-32.33668483]\n",
            "42000 0.002381316391578678, [4.79322008], [-33.41042306]\n",
            "48000 0.002085608961283738, [4.92630368], [-34.34215902]\n",
            "54000 0.001855050519862049, [5.04383702], [-35.16500937]\n",
            "60000 0.0016702771596432719, [5.14906839], [-35.90172237]\n"
          ]
        }
      ]
    }
  ]
}