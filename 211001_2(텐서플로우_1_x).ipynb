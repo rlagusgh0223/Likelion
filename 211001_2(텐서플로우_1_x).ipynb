{
  "nbformat": 4,
  "nbformat_minor": 0,
  "metadata": {
    "colab": {
      "name": "211001_2(텐서플로우 1.x)",
      "provenance": [],
      "authorship_tag": "ABX9TyPehgIDU1C2SfFsqcOrZXp5"
    },
    "kernelspec": {
      "name": "python3",
      "display_name": "Python 3"
    },
    "language_info": {
      "name": "python"
    }
  },
  "cells": [
    {
      "cell_type": "code",
      "metadata": {
        "colab": {
          "base_uri": "https://localhost:8080/"
        },
        "id": "UD-KtItk6OWK",
        "outputId": "a735aa67-519b-4a71-e3bc-5550ebbd28f1"
      },
      "source": [
        "#텐서플로우 코어의 프로그래밍 과정\n",
        "#tensorflow module을 import하면, 이때 Default Graph가 생성됨\n",
        "import tensorflow.compat.v1 as tf\n",
        "tf.disable_v2_behavior()\n",
        "\n",
        "tf.get_default_graph().get_operations()    #노드를 짜고 tensor를 구성한게 없으니까 []가 정상이다"
      ],
      "execution_count": 1,
      "outputs": [
        {
          "output_type": "stream",
          "name": "stdout",
          "text": [
            "WARNING:tensorflow:From /usr/local/lib/python3.7/dist-packages/tensorflow/python/compat/v2_compat.py:101: disable_resource_variables (from tensorflow.python.ops.variable_scope) is deprecated and will be removed in a future version.\n",
            "Instructions for updating:\n",
            "non-resource variables are not supported in the long term\n"
          ]
        },
        {
          "output_type": "execute_result",
          "data": {
            "text/plain": [
              "[]"
            ]
          },
          "metadata": {},
          "execution_count": 1
        }
      ]
    },
    {
      "cell_type": "code",
      "metadata": {
        "colab": {
          "base_uri": "https://localhost:8080/"
        },
        "id": "c8fDh7AL6szH",
        "outputId": "8410f40b-3faf-4bb2-befd-ca08482be77f"
      },
      "source": [
        "a = tf.constant(7.0, name = 'data1')    #에지 : tensor\n",
        "b = tf.constant(3.0, name = 'data2')    #노드(operation) : data1은 operation의 이름\n",
        "c = tf.constant(2.0, name = 'data3')\n",
        "\n",
        "tf.get_default_graph().get_operations()"
      ],
      "execution_count": 2,
      "outputs": [
        {
          "output_type": "execute_result",
          "data": {
            "text/plain": [
              "[<tf.Operation 'data1' type=Const>,\n",
              " <tf.Operation 'data2' type=Const>,\n",
              " <tf.Operation 'data3' type=Const>]"
            ]
          },
          "metadata": {},
          "execution_count": 2
        }
      ]
    },
    {
      "cell_type": "code",
      "metadata": {
        "colab": {
          "base_uri": "https://localhost:8080/"
        },
        "id": "YyNBPJPi78r-",
        "outputId": "39e4f3be-5812-4ee7-a428-4eef4d93c3e8"
      },
      "source": [
        "print(a)    #a의 값을 확인.    operation이 실행되기 전까지 텐서 a의 값이 결정되지 않은 상태"
      ],
      "execution_count": 3,
      "outputs": [
        {
          "output_type": "stream",
          "name": "stdout",
          "text": [
            "Tensor(\"data1:0\", shape=(), dtype=float32)\n"
          ]
        }
      ]
    },
    {
      "cell_type": "code",
      "metadata": {
        "colab": {
          "base_uri": "https://localhost:8080/"
        },
        "id": "LZTwbB-R8Yso",
        "outputId": "bf549d3c-ab03-46bf-f54a-a7bcc2f91663"
      },
      "source": [
        "print(a.op)    #a에 연결된 operation을 확인.    텐서 a를 출력하는 operation에 접근"
      ],
      "execution_count": 4,
      "outputs": [
        {
          "output_type": "stream",
          "name": "stdout",
          "text": [
            "name: \"data1\"\n",
            "op: \"Const\"\n",
            "attr {\n",
            "  key: \"dtype\"\n",
            "  value {\n",
            "    type: DT_FLOAT\n",
            "  }\n",
            "}\n",
            "attr {\n",
            "  key: \"value\"\n",
            "  value {\n",
            "    tensor {\n",
            "      dtype: DT_FLOAT\n",
            "      tensor_shape {\n",
            "      }\n",
            "      float_val: 7.0\n",
            "    }\n",
            "  }\n",
            "}\n",
            "\n"
          ]
        }
      ]
    },
    {
      "cell_type": "code",
      "metadata": {
        "colab": {
          "base_uri": "https://localhost:8080/"
        },
        "id": "LGQfR0WL8ja2",
        "outputId": "4c023858-00e3-4b12-f082-52689d522020"
      },
      "source": [
        "print(a.op.outputs)    #a의 입력 값을 확인.    operation a의 출력에 접근하여 확인"
      ],
      "execution_count": 5,
      "outputs": [
        {
          "output_type": "stream",
          "name": "stdout",
          "text": [
            "[<tf.Tensor 'data1:0' shape=() dtype=float32>]\n"
          ]
        }
      ]
    },
    {
      "cell_type": "code",
      "metadata": {
        "colab": {
          "base_uri": "https://localhost:8080/"
        },
        "id": "UMinB3RI82KN",
        "outputId": "12f73284-0b6f-4434-f286-87132e2a622b"
      },
      "source": [
        "print(a is a.op.outputs[0])    #텐서 a와 a의 operation의 출력이 같은지 확인"
      ],
      "execution_count": 6,
      "outputs": [
        {
          "output_type": "stream",
          "name": "stdout",
          "text": [
            "True\n"
          ]
        }
      ]
    },
    {
      "cell_type": "code",
      "metadata": {
        "colab": {
          "base_uri": "https://localhost:8080/"
        },
        "id": "cdsD_v_l89cU",
        "outputId": "90ff1280-8e66-46a8-fd16-57da276098b1"
      },
      "source": [
        "print(a.op.node_def.attr['value'].tensor.float_val[0])\n",
        "    #a의 operation protocol 버퍼에서 출력값을 확인해볼 수 있다"
      ],
      "execution_count": 7,
      "outputs": [
        {
          "output_type": "stream",
          "name": "stdout",
          "text": [
            "7.0\n"
          ]
        }
      ]
    },
    {
      "cell_type": "code",
      "metadata": {
        "colab": {
          "base_uri": "https://localhost:8080/"
        },
        "id": "epyv2Iym9FWE",
        "outputId": "4b5d7df4-11b9-430b-f34c-5252eb2c0fad"
      },
      "source": [
        "#한 줄의 코드지만 텐서플로우의 연산 노드가 자동으로 추가됨\n",
        "v = a * b / c\n",
        "\n",
        "#node에 이름을 붙이지 않았으므로 default이름인 mul, truediv을 가짐\n",
        "tf.get_default_graph().get_operations()"
      ],
      "execution_count": 8,
      "outputs": [
        {
          "output_type": "execute_result",
          "data": {
            "text/plain": [
              "[<tf.Operation 'data1' type=Const>,\n",
              " <tf.Operation 'data2' type=Const>,\n",
              " <tf.Operation 'data3' type=Const>,\n",
              " <tf.Operation 'mul' type=Mul>,\n",
              " <tf.Operation 'truediv' type=RealDiv>]"
            ]
          },
          "metadata": {},
          "execution_count": 8
        }
      ]
    },
    {
      "cell_type": "code",
      "metadata": {
        "colab": {
          "base_uri": "https://localhost:8080/"
        },
        "id": "A6f_nPrM9aPs",
        "outputId": "bf07e521-3618-4b52-d49f-4af75aca2ef5"
      },
      "source": [
        "#v의 input을 찍어보면 리스트 객체의 ID가 출력됨\n",
        "print('v.op.inputs = ', v.op.inputs)\n",
        "tf.get_default_graph().get_operations()"
      ],
      "execution_count": 9,
      "outputs": [
        {
          "output_type": "stream",
          "name": "stdout",
          "text": [
            "v.op.inputs =  (<tf.Tensor 'mul:0' shape=() dtype=float32>, <tf.Tensor 'data3:0' shape=() dtype=float32>)\n"
          ]
        },
        {
          "output_type": "execute_result",
          "data": {
            "text/plain": [
              "[<tf.Operation 'data1' type=Const>,\n",
              " <tf.Operation 'data2' type=Const>,\n",
              " <tf.Operation 'data3' type=Const>,\n",
              " <tf.Operation 'mul' type=Mul>,\n",
              " <tf.Operation 'truediv' type=RealDiv>]"
            ]
          },
          "metadata": {},
          "execution_count": 9
        }
      ]
    },
    {
      "cell_type": "code",
      "metadata": {
        "colab": {
          "base_uri": "https://localhost:8080/"
        },
        "id": "uSTB7TFw9kmD",
        "outputId": "1a46ae23-6645-4d72-c56a-385dabd9cdfa"
      },
      "source": [
        "print(type(v))    #v도 tensor다"
      ],
      "execution_count": 10,
      "outputs": [
        {
          "output_type": "stream",
          "name": "stdout",
          "text": [
            "<class 'tensorflow.python.framework.ops.Tensor'>\n"
          ]
        }
      ]
    },
    {
      "cell_type": "code",
      "metadata": {
        "colab": {
          "base_uri": "https://localhost:8080/"
        },
        "id": "m6PPrpvRAoGr",
        "outputId": "f1e6ddfb-8ea3-49f9-d606-a265b88bf2bd"
      },
      "source": [
        "print('v.op.outputs =',v.op.outputs)    #텐서 v의 operation 출력을 확인"
      ],
      "execution_count": 11,
      "outputs": [
        {
          "output_type": "stream",
          "name": "stdout",
          "text": [
            "v.op.outputs = [<tf.Tensor 'truediv:0' shape=() dtype=float32>]\n"
          ]
        }
      ]
    },
    {
      "cell_type": "code",
      "metadata": {
        "colab": {
          "base_uri": "https://localhost:8080/"
        },
        "id": "9dNDuhjpAr_S",
        "outputId": "ed20e8fd-ae3c-48a9-9fa0-42014537328f"
      },
      "source": [
        "print(v.op.outputs[0] is v)    #텐서 v와 v의 operation의 출력이 같은지 확인"
      ],
      "execution_count": 12,
      "outputs": [
        {
          "output_type": "stream",
          "name": "stdout",
          "text": [
            "True\n"
          ]
        }
      ]
    },
    {
      "cell_type": "code",
      "metadata": {
        "colab": {
          "base_uri": "https://localhost:8080/"
        },
        "id": "sIqtbsQSA3HK",
        "outputId": "24763cbe-a682-4386-8425-411179640bbe"
      },
      "source": [
        "print(v.op)    #텐서 v의 operation의 node를 확인(v.op.node_def)"
      ],
      "execution_count": 13,
      "outputs": [
        {
          "output_type": "stream",
          "name": "stdout",
          "text": [
            "name: \"truediv\"\n",
            "op: \"RealDiv\"\n",
            "input: \"mul\"\n",
            "input: \"data3\"\n",
            "attr {\n",
            "  key: \"T\"\n",
            "  value {\n",
            "    type: DT_FLOAT\n",
            "  }\n",
            "}\n",
            "\n"
          ]
        }
      ]
    },
    {
      "cell_type": "code",
      "metadata": {
        "colab": {
          "base_uri": "https://localhost:8080/"
        },
        "id": "euDaha3PBJPa",
        "outputId": "ee045039-0702-461f-9268-3e31f5d7c382"
      },
      "source": [
        "print(v.op.inputs[0])    #텐서 v의 operation의 node input 확인\n",
        "print(v.op.inputs[1])    #위에서 input으로 나온 두개(mul, data3)인지 확인"
      ],
      "execution_count": 14,
      "outputs": [
        {
          "output_type": "stream",
          "name": "stdout",
          "text": [
            "Tensor(\"mul:0\", shape=(), dtype=float32)\n",
            "Tensor(\"data3:0\", shape=(), dtype=float32)\n"
          ]
        }
      ]
    },
    {
      "cell_type": "code",
      "metadata": {
        "colab": {
          "base_uri": "https://localhost:8080/"
        },
        "id": "Tu-PmE9JBS-D",
        "outputId": "8292d490-9b96-4706-836f-bf7d475e43f5"
      },
      "source": [
        "# 1.x로 확인하는 TF 자료형\n",
        "import tensorflow.compat.v1 as tf\n",
        "tf.disable_v2_behavior()\n",
        "\n",
        "a = tf.constant(5)\n",
        "b = tf.constant(2)\n",
        "c = tf.constant(3)\n",
        "d = tf.multiply(a, b)    #a * b\n",
        "e = tf.add(c, b)         #c + b\n",
        "f = tf.subtract(d, e)    #d - e\n",
        "\n",
        "print(a)\n",
        "print(b)\n",
        "print(c)\n",
        "print(d)\n",
        "print(e)\n",
        "print(f)"
      ],
      "execution_count": 18,
      "outputs": [
        {
          "output_type": "stream",
          "name": "stdout",
          "text": [
            "Tensor(\"Const_3:0\", shape=(), dtype=int32)\n",
            "Tensor(\"Const_4:0\", shape=(), dtype=int32)\n",
            "Tensor(\"Const_5:0\", shape=(), dtype=int32)\n",
            "Tensor(\"Mul_2:0\", shape=(), dtype=int32)\n",
            "Tensor(\"Add_1:0\", shape=(), dtype=int32)\n",
            "Tensor(\"Sub_1:0\", shape=(), dtype=int32)\n"
          ]
        }
      ]
    },
    {
      "cell_type": "code",
      "metadata": {
        "colab": {
          "base_uri": "https://localhost:8080/"
        },
        "id": "rg817MxKBtmZ",
        "outputId": "18550747-f1e2-4120-96f4-5090cf1e6e58"
      },
      "source": [
        "#세션을 만들고 연산그래프 실행(f를 예로)\n",
        "#결국, 텐서를 흘려보내면서 데이터를 처리하는 과정이 필요\n",
        "#Session은 실제로 값을 대입한 그래프가 동작하도록 하는 역할을 수행\n",
        "sess = tf.Session()\n",
        "outs = sess.run(f)\n",
        "sess.close()\n",
        "print('outs =',outs)"
      ],
      "execution_count": 19,
      "outputs": [
        {
          "output_type": "stream",
          "name": "stdout",
          "text": [
            "outs = 5\n"
          ]
        }
      ]
    },
    {
      "cell_type": "code",
      "metadata": {
        "colab": {
          "base_uri": "https://localhost:8080/"
        },
        "id": "k9JxXf13CCaL",
        "outputId": "b0e3319c-ca71-42f4-dd8b-1b04f9e26ed7"
      },
      "source": [
        "#문자형 constant\n",
        "import tensorflow.compat.v1 as tf\n",
        "tf.disable_v2_behavior()\n",
        "\n",
        "#Hello, Tensorflow!라는 문자열이 들어있는 node 생성\n",
        "hello = tf.constant('Hello. Tensorflow!')\n",
        "\n",
        "#TF 세션 시작\n",
        "sess = tf.Session()\n",
        "\n",
        "#특정 노드 세션 run\n",
        "print(sess.run(hello))\n",
        "\n",
        "sess.close()"
      ],
      "execution_count": 20,
      "outputs": [
        {
          "output_type": "stream",
          "name": "stdout",
          "text": [
            "b'Hello. Tensorflow!'\n"
          ]
        }
      ]
    },
    {
      "cell_type": "code",
      "metadata": {
        "colab": {
          "base_uri": "https://localhost:8080/"
        },
        "id": "0AB142i1CaxR",
        "outputId": "f5bc5c30-3407-4236-9fdb-596b14454343"
      },
      "source": [
        "#실수형 constant 예제\n",
        "import tensorflow.compat.v1 as tf\n",
        "tf.disable_v2_behavior()\n",
        "\n",
        "node1 = tf.constant(3.0, tf.float32)    #float32 노드 생성\n",
        "node2 = tf.constant(4.0)    #float32 노드 생성\n",
        "node3 = tf.add(node1, node2)    #node1과 node2를 더하는 노드 생성\n",
        "print('node1 :', node1, 'node2 :', node2)\n",
        "print('node3 :',node3)\n",
        "\n",
        "sess = tf.Session()\n",
        "print([node1, node2])\n",
        "print('sess.run(node1, node2) :', sess.run([node1, node2]))    #[3.0, 4.0]\n",
        "print('sess.run(node3) :', sess.run(node3))    #7.0\n",
        "\n",
        "sess.close()"
      ],
      "execution_count": 21,
      "outputs": [
        {
          "output_type": "stream",
          "name": "stdout",
          "text": [
            "node1 : Tensor(\"Const_7:0\", shape=(), dtype=float32) node2 : Tensor(\"Const_8:0\", shape=(), dtype=float32)\n",
            "node3 : Tensor(\"Add_2:0\", shape=(), dtype=float32)\n",
            "[<tf.Tensor 'Const_7:0' shape=() dtype=float32>, <tf.Tensor 'Const_8:0' shape=() dtype=float32>]\n",
            "sess.run(node1, node2) : [3.0, 4.0]\n",
            "sess.run(node3) : 7.0\n"
          ]
        }
      ]
    },
    {
      "cell_type": "code",
      "metadata": {
        "id": "0wZFvOs9DDUw"
      },
      "source": [
        "#플레이스 홀더\n",
        "#2.x에서는 못 쓴다\n",
        "#Session()안에서 값이 안 바뀐다\n",
        "import tensorflow.compat.v1 as tf\n",
        "tf.disable_v2_behavior()\n",
        "\n",
        "input_data = [1,2,3,4,5]\n",
        "\n",
        "x = tf.placeholder(dtype=tf.float32)\n",
        "y = x * 2"
      ],
      "execution_count": null,
      "outputs": []
    }
  ]
}