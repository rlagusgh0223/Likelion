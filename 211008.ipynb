{
  "nbformat": 4,
  "nbformat_minor": 0,
  "metadata": {
    "colab": {
      "name": "211008",
      "provenance": [],
      "authorship_tag": "ABX9TyO9vJcwKqkCcWB/BMNbgx1U"
    },
    "kernelspec": {
      "name": "python3",
      "display_name": "Python 3"
    },
    "language_info": {
      "name": "python"
    }
  },
  "cells": [
    {
      "cell_type": "code",
      "metadata": {
        "colab": {
          "base_uri": "https://localhost:8080/"
        },
        "id": "hMrim5qDR9PI",
        "outputId": "21edd2b2-f08e-4181-ed9c-957dca01cbe2"
      },
      "source": [
        "# 퍼셉트론\n",
        "\n",
        "#XOR문제 다층 퍼셉트론으로 해결  \n",
        "#히든 레이어는 있지만 딥러닝이 아니라  \n",
        "#다층 퍼셉트론을 사용하는 머신러닝이다\n",
        "import numpy as np\n",
        "#가중치와 바이어스\n",
        "wl1 = np.array([-2, -2])\n",
        "wl2 = np.array([2,2])\n",
        "w2 = np.array([1,1])\n",
        "b1 = 3\n",
        "b2 = -1\n",
        "b3 = -1\n",
        "#퍼셉트론\n",
        "def MLP(x, w, b):\n",
        "    y = np.sum(w * x) + b    #시그모이드 함수의 np.e의 지수부분. 즉 -z에서 z부분\n",
        "    if y<= 0:\n",
        "        return 0\n",
        "    else:\n",
        "        return 1\n",
        "#NAND게이트\n",
        "def NAND(x1, x2):\n",
        "    return MLP(np.array([x1, x2]), wl1, b1)\n",
        "#OR게이트\n",
        "def OR(x1, x2):\n",
        "    return MLP(np.array([x1, x2]), wl2, b2)\n",
        "#AND게이트\n",
        "def AND(x1, x2):\n",
        "    return MLP(np.array([x1, x2]), w2, b3)\n",
        "#XOR게이트\n",
        "def XOR(x1, x2):\n",
        "    return AND(NAND(x1, x2), OR(x1, x2))\n",
        "\n",
        "#x1, x2값을 번갈아 대입해 가며 최종값 출력\n",
        "if __name__ == '__main__':\n",
        "    for x in [(0, 0), (1, 0), (0, 1), (1, 1)]:\n",
        "        y = XOR(x[0], x[1])\n",
        "        print(\"입력 값 :\" + str(x) + \"출력 값 :\" + str(y))"
      ],
      "execution_count": 1,
      "outputs": [
        {
          "output_type": "stream",
          "name": "stdout",
          "text": [
            "입력 값 :(0, 0)출력 값 :0\n",
            "입력 값 :(1, 0)출력 값 :1\n",
            "입력 값 :(0, 1)출력 값 :1\n",
            "입력 값 :(1, 1)출력 값 :0\n"
          ]
        }
      ]
    },
    {
      "cell_type": "code",
      "metadata": {
        "colab": {
          "base_uri": "https://localhost:8080/"
        },
        "id": "sVkSI7gCSHxe",
        "outputId": "54719a43-e271-4169-cbdd-f1962333a99d"
      },
      "source": [
        "# 1. w, b를 가지고 검증\n",
        "# 2. MLP 함수 부분을 1 /1 1+e^-z)로 만들어 검증해보기\n",
        "# 3. XOR의 결과 값이 동일하게 나와야 함\n",
        "# 4. 텐서플로우를 사용하지 말고 numpy만으로 시그모이드 함수 구현하기\n",
        "import numpy as np\n",
        "#가중치와 바이어스\n",
        "wl1 = np.array([-7.40, -7.40]) #NAND\n",
        "wl2 = np.array([8.67, 8.67])   #OR\n",
        "w2 = np.array([7.41, 7.41])    #AND\n",
        "b1 = 11.28\n",
        "b2 = -3.87\n",
        "b3 = -11.29\n",
        "#퍼셉트론\n",
        "def MLP(x, w, b):\n",
        "    y = 1 / (1 + np.exp(-(np.dot(x, w) + b)))   #행렬곱을 해야되니까 dot를 써야한다\n",
        "    if y<= 0.5:\n",
        "        return 0\n",
        "    else:\n",
        "        return 1\n",
        "#NAND게이트\n",
        "def NAND(x1, x2):\n",
        "    return MLP(np.array([x1, x2]), wl1, b1)\n",
        "#OR게이트\n",
        "def OR(x1, x2):\n",
        "    return MLP(np.array([x1, x2]), wl2, b2)\n",
        "#AND게이트\n",
        "def AND(x1, x2):\n",
        "    return MLP(np.array([x1, x2]), w2, b3)\n",
        "#XOR게이트\n",
        "def XOR(x1, x2):\n",
        "    return AND(NAND(x1, x2), OR(x1, x2))\n",
        "\n",
        "#x1, x2값을 번갈아 대입해 가며 최종값 출력\n",
        "if __name__ == '__main__':\n",
        "    for x in [(0, 0), (1, 0), (0, 1), (1, 1)]:\n",
        "        y = XOR(x[0], x[1])\n",
        "        print(\"입력 값 :\" + str(x) + \"출력 값 :\" + str(y))"
      ],
      "execution_count": 2,
      "outputs": [
        {
          "output_type": "stream",
          "name": "stdout",
          "text": [
            "입력 값 :(0, 0)출력 값 :0\n",
            "입력 값 :(1, 0)출력 값 :1\n",
            "입력 값 :(0, 1)출력 값 :1\n",
            "입력 값 :(1, 1)출력 값 :0\n"
          ]
        }
      ]
    }
  ]
}