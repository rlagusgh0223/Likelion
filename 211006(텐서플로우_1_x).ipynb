{
  "nbformat": 4,
  "nbformat_minor": 0,
  "metadata": {
    "colab": {
      "name": "211006(텐서플로우 1.x)",
      "provenance": [],
      "authorship_tag": "ABX9TyOMu6vYITFcCzexeXU9ks/b"
    },
    "kernelspec": {
      "name": "python3",
      "display_name": "Python 3"
    },
    "language_info": {
      "name": "python"
    }
  },
  "cells": [
    {
      "cell_type": "code",
      "metadata": {
        "colab": {
          "base_uri": "https://localhost:8080/"
        },
        "id": "QNgqR6L7uw1J",
        "outputId": "ab1f8402-a906-4b03-a9e3-88d476a6b3c0"
      },
      "source": [
        "#다중 선형 회귀\n",
        "import tensorflow.compat.v1 as tf\n",
        "tf.disable_v2_behavior()\n",
        "\n",
        "#x1, x2, y의 데이터 값\n",
        "data = [[2, 0, 81], [4, 4, 93], [6, 2, 91], [8, 3, 97]]\n",
        "x1 = [x_row1[0] for x_row1 in data]\n",
        "x2 = [x_row2[1] for x_row2 in data]    #새로 추가되는 값\n",
        "y_data = [y_row[2] for y_row in data]\n",
        "\n",
        "#기울기 a와 y절편 b의 값을 임의로 정한다\n",
        "#단, 기울기의 범위는 0 ~ 10사이이며, y절편은 0 ~ 100사이에서 변하게 한다\n",
        "a1 = tf.Variable(tf.random_uniform([1], 0, 10, dtype = tf.float64, seed=0))\n",
        "b = tf.Variable(tf.random_uniform([1], 0, 100, dtype = tf.float64, seed=0))\n",
        "#새로 추가되는 값\n",
        "a2 = tf.Variable(tf.random_uniform([1], 0, 10, dtype = tf.float64, seed=0))\n",
        "\n",
        "#새로운 방정식\n",
        "y = a1 * x1 + a2 * x2 + b\n",
        "\n",
        "#텐서플로 RMSE 함수\n",
        "rmse = tf.sqrt(tf.reduce_mean(tf.square( y - y_data )))\n",
        "\n",
        "#학습률 값\n",
        "learning_rate = 0.1\n",
        "\n",
        "#RMSE값을 최소로 하는 값 찾기\n",
        "gradient_decent = tf.train.GradientDescentOptimizer(learning_rate).minimize(rmse)\n",
        "\n",
        "#학습이 진행되는 부분\n",
        "with tf.Session() as sess:\n",
        "    sess.run(tf.global_variables_initializer())\n",
        "    for step in range(2001):\n",
        "        sess.run(gradient_decent)\n",
        "        if step % 100 == 0:\n",
        "            print(\"epoch = %.4f, rmse = %.4f, 기울기 a1 = %.4f, 기울기 a2 = %.4f, 절편 b = %.4f\"\n",
        "                  %(step, sess.run(rmse), sess.run(a1), sess.run(a2), sess.run(b)))"
      ],
      "execution_count": 1,
      "outputs": [
        {
          "output_type": "stream",
          "name": "stdout",
          "text": [
            "WARNING:tensorflow:From /usr/local/lib/python3.7/dist-packages/tensorflow/python/compat/v2_compat.py:101: disable_resource_variables (from tensorflow.python.ops.variable_scope) is deprecated and will be removed in a future version.\n",
            "Instructions for updating:\n",
            "non-resource variables are not supported in the long term\n",
            "epoch = 0.0000, rmse = 49.1842, 기울기 a1 = 7.5270, 기울기 a2 = 7.8160, 절편 b = 80.5980\n",
            "epoch = 100.0000, rmse = 1.8368, 기울기 a1 = 1.1306, 기울기 a2 = 2.1316, 절편 b = 78.5119\n",
            "epoch = 200.0000, rmse = 1.8370, 기울기 a1 = 1.1879, 기울기 a2 = 2.1487, 절편 b = 78.1057\n",
            "epoch = 300.0000, rmse = 1.8370, 기울기 a1 = 1.2122, 기울기 a2 = 2.1571, 절편 b = 77.9352\n",
            "epoch = 400.0000, rmse = 1.8370, 기울기 a1 = 1.2226, 기울기 a2 = 2.1607, 절편 b = 77.8636\n",
            "epoch = 500.0000, rmse = 1.8370, 기울기 a1 = 1.2269, 기울기 a2 = 2.1622, 절편 b = 77.8335\n",
            "epoch = 600.0000, rmse = 1.8370, 기울기 a1 = 1.2288, 기울기 a2 = 2.1628, 절편 b = 77.8208\n",
            "epoch = 700.0000, rmse = 1.8370, 기울기 a1 = 1.2295, 기울기 a2 = 2.1631, 절편 b = 77.8155\n",
            "epoch = 800.0000, rmse = 1.8370, 기울기 a1 = 1.2299, 기울기 a2 = 2.1632, 절편 b = 77.8133\n",
            "epoch = 900.0000, rmse = 1.8370, 기울기 a1 = 1.2300, 기울기 a2 = 2.1632, 절편 b = 77.8124\n",
            "epoch = 1000.0000, rmse = 1.8370, 기울기 a1 = 1.2301, 기울기 a2 = 2.1633, 절편 b = 77.8120\n",
            "epoch = 1100.0000, rmse = 1.8370, 기울기 a1 = 1.2301, 기울기 a2 = 2.1633, 절편 b = 77.8118\n",
            "epoch = 1200.0000, rmse = 1.8370, 기울기 a1 = 1.2301, 기울기 a2 = 2.1633, 절편 b = 77.8117\n",
            "epoch = 1300.0000, rmse = 1.8370, 기울기 a1 = 1.2301, 기울기 a2 = 2.1633, 절편 b = 77.8117\n",
            "epoch = 1400.0000, rmse = 1.8370, 기울기 a1 = 1.2301, 기울기 a2 = 2.1633, 절편 b = 77.8117\n",
            "epoch = 1500.0000, rmse = 1.8370, 기울기 a1 = 1.2301, 기울기 a2 = 2.1633, 절편 b = 77.8117\n",
            "epoch = 1600.0000, rmse = 1.8370, 기울기 a1 = 1.2301, 기울기 a2 = 2.1633, 절편 b = 77.8117\n",
            "epoch = 1700.0000, rmse = 1.8370, 기울기 a1 = 1.2301, 기울기 a2 = 2.1633, 절편 b = 77.8117\n",
            "epoch = 1800.0000, rmse = 1.8370, 기울기 a1 = 1.2301, 기울기 a2 = 2.1633, 절편 b = 77.8117\n",
            "epoch = 1900.0000, rmse = 1.8370, 기울기 a1 = 1.2301, 기울기 a2 = 2.1633, 절편 b = 77.8117\n",
            "epoch = 2000.0000, rmse = 1.8370, 기울기 a1 = 1.2301, 기울기 a2 = 2.1633, 절편 b = 77.8117\n"
          ]
        }
      ]
    },
    {
      "cell_type": "code",
      "metadata": {
        "colab": {
          "base_uri": "https://localhost:8080/"
        },
        "id": "gljSjHa4u7iE",
        "outputId": "4e78f27b-f053-43f4-896e-a5fd8067b886"
      },
      "source": [
        "#다중 선형 회귀 - 다순 선형 회귀와 결과 비교\n",
        "import tensorflow.compat.v1 as tf\n",
        "tf.disable_v2_behavior()\n",
        "\n",
        "\n",
        "data = [[2, 0, 81], [4, 4, 93], [6, 2, 91], [8, 3, 97]]\n",
        "x1 = [x_row1[0] for x_row1 in data]\n",
        "x2 = [x_row2[1] for x_row2 in data]    #새로 추가되는 값\n",
        "y_data = [y_row[2] for y_row in data]\n",
        "\n",
        "\n",
        "#다중 선형 회귀 y = a1x1 + a2x2 + b\n",
        "m_a1 = 1.2301\n",
        "m_a2 = 2.1633\n",
        "m_b = 77.8117\n",
        "m_y = []\n",
        "\n",
        "for i in range(len(data)):\n",
        "    m_y.append(m_a1 * x1[i] + m_a2 * x2[i] + m_b)\n",
        "print(m_y)\n",
        "m_avr = sum(m_y)/4\n",
        "print(\"다중 선형회귀의 점수 평균 :\", m_avr)\n",
        "\n",
        "m_diff_y = []\n",
        "for i in range(4):\n",
        "    m_diff_y.append(abs(y_data[i] - m_y[i]))    #(진짜값 - 예측값) <- abs에 의해 절대값이 나온다(음수 안나온다)\n",
        "avr_d1 = sum(m_diff_y) / 4                      #오차를 +, -로 구하면 합해서 0이 될 수 있으니까 절대값으로 받는다\n",
        "print(\"다중 선형회귀의 오차 평균 :\", avr_d1)\n",
        "\n",
        "\n",
        "#단순 선형 회귀 y = ax + b\n",
        "s_a1 = 2.3\n",
        "s_b = 79\n",
        "s_y = []\n",
        "for i in range(4):\n",
        "    s_y.append(s_a1 * x1[i] + s_b)\n",
        "print(s_y)\n",
        "s_avr2 = sum(s_y) / 4\n",
        "print(\"단순 선형회귀의 점수 평균 :\", s_avr2)\n",
        "\n",
        "s_diff_y = []\n",
        "for i in range(4):\n",
        "    s_diff_y.append(abs(y_data[i] - s_y[i]))\n",
        "avr_d2 = sum(s_diff_y) / 4\n",
        "print(\"단순 선형회귀의 오차 평균 :\", avr_d2)"
      ],
      "execution_count": 2,
      "outputs": [
        {
          "output_type": "stream",
          "name": "stdout",
          "text": [
            "[80.2719, 91.3853, 89.5189, 94.14240000000001]\n",
            "다중 선형회귀의 점수 평균 : 88.82962500000001\n",
            "다중 선형회귀의 오차 평균 : 1.6703749999999964\n",
            "[83.6, 88.2, 92.8, 97.4]\n",
            "단순 선형회귀의 점수 평균 : 90.5\n",
            "단순 선형회귀의 오차 평균 : 2.3999999999999986\n"
          ]
        }
      ]
    }
  ]
}