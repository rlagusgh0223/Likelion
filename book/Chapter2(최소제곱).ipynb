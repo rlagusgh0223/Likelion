{
 "cells": [
  {
   "cell_type": "markdown",
   "id": "a9b08ddd",
   "metadata": {},
   "source": [
    "# 최소제곱"
   ]
  },
  {
   "cell_type": "code",
   "execution_count": 1,
   "id": "5af6025b",
   "metadata": {},
   "outputs": [
    {
     "name": "stdout",
     "output_type": "stream",
     "text": [
      "x의 평균값 : 5.0\n",
      "y의 평균값 : 90.5\n"
     ]
    }
   ],
   "source": [
    "import numpy as np\n",
    "\n",
    "#x값과 y값\n",
    "x = [2, 4, 6, 8]\n",
    "y = [81, 93, 91, 97]\n",
    "\n",
    "#x와 y의 평균값\n",
    "mx = np.mean(x)\n",
    "my = np.mean(y)\n",
    "print(\"x의 평균값 :\", mx)\n",
    "print(\"y의 평균값 :\", my)\n",
    "\n",
    "#기울기 공식의 분모 : (x-x평균)의 합의 제곱\n",
    "divisor = sum([(mx - i)**2 for i in x])"
   ]
  },
  {
   "cell_type": "code",
   "execution_count": 2,
   "id": "d56c14a4",
   "metadata": {},
   "outputs": [
    {
     "name": "stdout",
     "output_type": "stream",
     "text": [
      "분모 : 20.0\n",
      "분자 : 46.0\n",
      "기울기 a = 2.3\n",
      "y절편 b = 79.0\n"
     ]
    }
   ],
   "source": [
    "#기울기 공식의 분자 : (x-x평균)(y-y평균)의 합\n",
    "def top(x, mx, y, my):\n",
    "    d = 0\n",
    "    for i in range(len(x)):\n",
    "        d += (x[i]-mx)*(y[i]-my)\n",
    "    return d\n",
    "dividend = top(x, mx, y, my)    #위의 top함수값 입력\n",
    "\n",
    "print(\"분모 :\", divisor)\n",
    "print(\"분자 :\", dividend)\n",
    "\n",
    "#기울기와 y절편 구하기\n",
    "a = dividend / divisor\n",
    "b = my - (mx*a)\n",
    "\n",
    "#출력으로 확인\n",
    "print(\"기울기 a =\", a)\n",
    "print(\"y절편 b =\", b)"
   ]
  },
  {
   "cell_type": "markdown",
   "id": "cd152d08",
   "metadata": {},
   "source": [
    "기울기 공식의 분자를 함수가 아니라 sum으로 만들어보기"
   ]
  },
  {
   "cell_type": "code",
   "execution_count": 4,
   "id": "2d0ae00a",
   "metadata": {},
   "outputs": [
    {
     "name": "stdout",
     "output_type": "stream",
     "text": [
      "분모 : 20.0\n",
      "분자 : 46.0\n",
      "기울기 a = 2.3\n",
      "y절편 b = 79.0\n"
     ]
    }
   ],
   "source": [
    "sum_dividend = sum([(mx - x[i]) * (my - y[i]) for i in range(len(x))])\n",
    "\n",
    "print(\"분모 :\", divisor)\n",
    "print(\"분자 :\", sum_dividend)\n",
    "\n",
    "#기울기와 y 절편 구하기\n",
    "a = sum_dividend / divisor\n",
    "b = my - (mx*a)\n",
    "\n",
    "#출력으로 확인\n",
    "print(\"기울기 a =\", a)\n",
    "print(\"y절편 b =\", b)"
   ]
  },
  {
   "cell_type": "code",
   "execution_count": null,
   "id": "15c8a6a2",
   "metadata": {},
   "outputs": [],
   "source": []
  }
 ],
 "metadata": {
  "kernelspec": {
   "display_name": "Python 3 (ipykernel)",
   "language": "python",
   "name": "python3"
  },
  "language_info": {
   "codemirror_mode": {
    "name": "ipython",
    "version": 3
   },
   "file_extension": ".py",
   "mimetype": "text/x-python",
   "name": "python",
   "nbconvert_exporter": "python",
   "pygments_lexer": "ipython3",
   "version": "3.8.11"
  }
 },
 "nbformat": 4,
 "nbformat_minor": 5
}
