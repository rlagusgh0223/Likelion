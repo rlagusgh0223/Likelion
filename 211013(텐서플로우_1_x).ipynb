{
  "nbformat": 4,
  "nbformat_minor": 0,
  "metadata": {
    "colab": {
      "name": "211013(텐서플로우 1.x)",
      "provenance": [],
      "authorship_tag": "ABX9TyPP2cf5kk0UOOcBLbl4Cu50"
    },
    "kernelspec": {
      "name": "python3",
      "display_name": "Python 3"
    },
    "language_info": {
      "name": "python"
    }
  },
  "cells": [
    {
      "cell_type": "code",
      "metadata": {
        "colab": {
          "base_uri": "https://localhost:8080/"
        },
        "id": "FUiHEuk7WtVK",
        "outputId": "25d0cb9f-53fa-490c-8d76-d1545bb21ae3"
      },
      "source": [
        "import tensorflow.compat.v1 as tf\n",
        "tf.disable_v2_behavior()\n",
        "import numpy as np\n",
        "\n",
        "learning_rate = 0.1\n",
        "tf.set_random_seed(0)\n",
        "np.random.seed(0)\n",
        "\n",
        "Data_set = np.loadtxt(\"/ThoraricSurgery.csv\", delimiter=\",\")\n",
        "#환자의 기록과 수술 결과를 X와 Y로 구분하여 저장\n",
        "x_data = Data_set[:, 0:17]\n",
        "y_data = Data_set[:, [17]]\n",
        "\n",
        "#Placeholders : Shape주의! 총 17개의 x_data와 1개의 y_data\n",
        "X = tf.placeholder(tf.float32, [None, 17])\n",
        "Y = tf.placeholder(tf.float32, [None, 1])\n",
        "W1 = tf.Variable(tf.random_normal([17,30]), name='weight1')\n",
        "W2 = tf.Variable(tf.random_normal([30, 1]), name = 'weight2')\n",
        "b1 = tf.Variable(tf.random_normal([30]), name='bias1')\n",
        "b2 = tf.Variable(tf.random_normal([1]), name='bias2')\n",
        "\n",
        "hidden_layer = tf.sigmoid(tf.matmul(X, W1) + b1)\n",
        "hypothesis = tf.sigmoid(tf.matmul(hidden_layer, W2) + b2)\n",
        "\n",
        "#cost/loss function\n",
        "cost = -tf.reduce_mean(Y * tf.log(hypothesis) + (1 - Y) * tf.log(1 - hypothesis))\n",
        "train = tf.train.GradientDescentOptimizer(learning_rate).minimize(cost)\n",
        "\n",
        "#정확도 hypothesis > 0.5 else False\n",
        "predicted = tf.cast(hypothesis > 0.5, dtype=tf.float32)\n",
        "accuracy = tf.reduce_mean(tf.cast(tf.equal(predicted, Y), dtype=tf.float32))\n",
        "\n",
        "#세션 시작\n",
        "with tf.Session() as sess:\n",
        "    sess.run(tf.global_variables_initializer())\n",
        "    \n",
        "    for step in range(10001):\n",
        "        cost_val, train_val = sess.run([cost,train], feed_dict = {X:x_data, Y:y_data})\n",
        "        if step % 500 == 0:\n",
        "            print(step, cost_val)\n",
        "            \n",
        "    a = sess.run([accuracy], feed_dict={X:x_data, Y:y_data})\n",
        "    print(\"\\nAccuracy:\",a)"
      ],
      "execution_count": 4,
      "outputs": [
        {
          "output_type": "stream",
          "name": "stdout",
          "text": [
            "0 0.51950467\n",
            "500 0.41027352\n",
            "1000 0.40859762\n",
            "1500 0.4074655\n",
            "2000 0.40644434\n",
            "2500 0.4055931\n",
            "3000 0.404814\n",
            "3500 0.40382013\n",
            "4000 0.4029072\n",
            "4500 0.40197253\n",
            "5000 0.40110758\n",
            "5500 0.40030113\n",
            "6000 0.39946568\n",
            "6500 0.39874074\n",
            "7000 0.39803785\n",
            "7500 0.39728105\n",
            "8000 0.3966234\n",
            "8500 0.3960151\n",
            "9000 0.39531875\n",
            "9500 0.39464495\n",
            "10000 0.39398873\n",
            "\n",
            "Accuracy: [0.8574468]\n"
          ]
        }
      ]
    }
  ]
}