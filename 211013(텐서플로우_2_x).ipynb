{
  "nbformat": 4,
  "nbformat_minor": 0,
  "metadata": {
    "colab": {
      "name": "211013(텐서플로우 2.x)",
      "provenance": [],
      "authorship_tag": "ABX9TyMQxHxK+7pOsiGkYjh5Fvd9"
    },
    "kernelspec": {
      "name": "python3",
      "display_name": "Python 3"
    },
    "language_info": {
      "name": "python"
    }
  },
  "cells": [
    {
      "cell_type": "code",
      "metadata": {
        "id": "YhB_KMiSkCHP"
      },
      "source": [
        "#다중 선형 회귀 - 케라스\n",
        "import numpy as np\n",
        "import tensorflow as tf\n",
        "import matplotlib.pyplot as plt\n",
        "from tensorflow.keras.models import Sequential\n",
        "from tensorflow.keras.layers import Dense\n",
        "from tensorflow.keras.optimizers import RMSprop\n",
        "from mpl_toolkits.mplot3d import Axed3D    #3차원 그래프 쓰기 위해\n",
        "\n",
        "raw_data = np.loadtxt(\"Blood_fat.csv\", delimiter=\",\")\n",
        "\n",
        "xs = np.array(raw_data[:, 0], dtype=np.float32)\n",
        "ys = np.array(raw_data[:, 1], dtype=np.float32)\n",
        "zs = np.array(raw_data[:, 2], dtype=np.float32)\n",
        "\n",
        "x_data = np.array(raw_data[:, 0:2], dtype=np.float32)\n",
        "y_data = np.array(raw_data[:, 2], dtype=np.float32)\n",
        "y_data = y_data.reshape(25, 1)    #보기에서는 ()가 두개이다\n",
        "\n",
        "rmsprop = RMSprop(lr=0.01)\n",
        "model = Sequential()\n",
        "model.add(Dense(1, input_shape=(None, 2)))    #새로운 층을 만든다"
      ],
      "execution_count": null,
      "outputs": []
    }
  ]
}