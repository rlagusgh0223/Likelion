{
  "nbformat": 4,
  "nbformat_minor": 0,
  "metadata": {
    "colab": {
      "name": "211005(텐서플로우 2.x)",
      "provenance": [],
      "authorship_tag": "ABX9TyN7/hdaIoFXG+y6UC+aEcWA"
    },
    "kernelspec": {
      "name": "python3",
      "display_name": "Python 3"
    },
    "language_info": {
      "name": "python"
    }
  },
  "cells": [
    {
      "cell_type": "code",
      "metadata": {
        "colab": {
          "base_uri": "https://localhost:8080/"
        },
        "id": "e9FsjRBmKMjS",
        "outputId": "0f0763f6-d63a-4eae-8a65-52af1f6a08fb"
      },
      "source": [
        "#텐서플로우 1.x -> 2.x 변환 예제\n",
        "# 2.x 코드\n",
        "import tensorflow as tf\n",
        "\n",
        "node1 = tf.constant(3.0)\n",
        "node2 = tf.constant(4.0)\n",
        "node3 = tf.add(node1, node2)\n",
        "\n",
        "print(node1.numpy(), node2.numpy())\n",
        "print(node3.numpy())\n",
        "#또는\n",
        "tf.print(float(node1), node2)\n",
        "tf.print(node3)"
      ],
      "execution_count": 2,
      "outputs": [
        {
          "output_type": "stream",
          "name": "stdout",
          "text": [
            "3.0 4.0\n",
            "7.0\n",
            "3.0 4\n",
            "7\n"
          ]
        }
      ]
    },
    {
      "cell_type": "code",
      "metadata": {
        "colab": {
          "base_uri": "https://localhost:8080/"
        },
        "id": "cFN02IgAKgXW",
        "outputId": "b42fbc16-6920-4565-8726-aed203cbd3bd"
      },
      "source": [
        "# 2.x에서 문자열 처리\n",
        "import tensorflow as tf\n",
        "hello = tf.constant(\"hello world\")\n",
        "print(hello)\n",
        "print(hello.numpy())"
      ],
      "execution_count": 3,
      "outputs": [
        {
          "output_type": "stream",
          "name": "stdout",
          "text": [
            "tf.Tensor(b'hello world', shape=(), dtype=string)\n",
            "b'hello world'\n"
          ]
        }
      ]
    },
    {
      "cell_type": "code",
      "metadata": {
        "colab": {
          "base_uri": "https://localhost:8080/"
        },
        "id": "xfkrMrJbNZTe",
        "outputId": "ba6c9382-869b-473d-a636-6ef25a978796"
      },
      "source": [
        "# 2.x에서의 여러가지 처리\n",
        "import tensorflow as tf\n",
        "\n",
        "#Define tensor constant\n",
        "a = tf.constant(2)#상수형 데이터 할당\n",
        "b = tf.constant(3)\n",
        "c = tf.constant(5)\n",
        "\n",
        "#Various tensor operations\n",
        "#Note : Tensors also support python operators(+,-,*,/)\n",
        "add = tf.add(a, b)#연산자 결과를 각 텐서에 입력\n",
        "sub = tf.subtract(a, b)\n",
        "mul = tf.multiply(a, b)\n",
        "div = tf.divide(a, b)\n",
        "\n",
        "#Access tensors value\n",
        "print('add =', add.numpy())#텐서의 결과 출력\n",
        "print('sub =', sub.numpy())\n",
        "print('mul =', mul.numpy())\n",
        "print('div =', div.numpy())\n",
        "\n",
        "#Some more operations\n",
        "mean = tf.reduce_mean([a,b,c])#a,b,c의 평균\n",
        "sum = tf.reduce_sum([a,b,c])#a,b,c의 합\n",
        "\n",
        "#Access tensors value\n",
        "print(\"mean =\", mean.numpy())\n",
        "print(\"sum =\", sum.numpy())\n",
        "\n",
        "#Matrix multiplications\n",
        "matrix1 = tf.constant([[1., 2.], [3., 4.]])#텐서플로 상수형 행렬\n",
        "matrix2 = tf.constant([[5., 6.], [7., 8.]])\n",
        "product = tf.matmul(matrix1, matrix2)\n",
        "\n",
        "#Display Tensor\n",
        "print(product)\n",
        "\n",
        "#Convert Tensor to Numpy\n",
        "print(product.numpy())#실제 행렬곱"
      ],
      "execution_count": 4,
      "outputs": [
        {
          "output_type": "stream",
          "name": "stdout",
          "text": [
            "add = 5\n",
            "sub = -1\n",
            "mul = 6\n",
            "div = 0.6666666666666666\n",
            "mean = 3\n",
            "sum = 10\n",
            "tf.Tensor(\n",
            "[[19. 22.]\n",
            " [43. 50.]], shape=(2, 2), dtype=float32)\n",
            "[[19. 22.]\n",
            " [43. 50.]]\n"
          ]
        }
      ]
    },
    {
      "cell_type": "code",
      "metadata": {
        "id": "_M1SKXj7NoZN"
      },
      "source": [
        ""
      ],
      "execution_count": null,
      "outputs": []
    }
  ]
}