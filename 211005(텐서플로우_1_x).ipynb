{
  "nbformat": 4,
  "nbformat_minor": 0,
  "metadata": {
    "colab": {
      "name": "211005(텐서플로우 1.x)",
      "provenance": [],
      "authorship_tag": "ABX9TyNGSSKtzSU6T9d2IM2YtNjD"
    },
    "kernelspec": {
      "name": "python3",
      "display_name": "Python 3"
    },
    "language_info": {
      "name": "python"
    }
  },
  "cells": [
    {
      "cell_type": "code",
      "metadata": {
        "colab": {
          "base_uri": "https://localhost:8080/"
        },
        "id": "9wfVjqibrKu8",
        "outputId": "8a7cb5aa-d108-480f-8b51-e78afc41ecc8"
      },
      "source": [
        "#텐서플로우 1.x -> 2.x 변환 예제\n",
        "# 1.x 코드\n",
        "import tensorflow.compat.v1 as tf\n",
        "tf.disable_v2_behavior()\n",
        "\n",
        "node1 = tf.constant(3.0)\n",
        "node2 = tf.constant(4.0)\n",
        "node3 = tf.add(node1, node2)\n",
        "sess = tf.Session()\n",
        "\n",
        "print(sess.run([node1, node2]))\n",
        "print(sess.run(node3))\n",
        "\n",
        "sess.close()"
      ],
      "execution_count": 1,
      "outputs": [
        {
          "output_type": "stream",
          "name": "stdout",
          "text": [
            "WARNING:tensorflow:From /usr/local/lib/python3.7/dist-packages/tensorflow/python/compat/v2_compat.py:101: disable_resource_variables (from tensorflow.python.ops.variable_scope) is deprecated and will be removed in a future version.\n",
            "Instructions for updating:\n",
            "non-resource variables are not supported in the long term\n",
            "[3.0, 4.0]\n",
            "7.0\n"
          ]
        }
      ]
    },
    {
      "cell_type": "code",
      "metadata": {
        "colab": {
          "base_uri": "https://localhost:8080/"
        },
        "id": "9-B01-WcHwuB",
        "outputId": "dabe7fe6-7592-4381-eb9c-70b3330ae21a"
      },
      "source": [
        "import tensorflow.compat.v1 as tf\n",
        "tf.compat.v1.disable_v2_behavior()\n",
        "\n",
        "#x, y의 데이터 값\n",
        "data = [[2, 81], [4, 93], [6, 91], [8, 97]]\n",
        "x_data = [x_row[0] for x_row in data]\n",
        "y_data = [y_row[1] for y_row in data]\n",
        "\n",
        "#기울기 a와 y절편 b의 값을 임의로 정한다\n",
        "#단, 기울기의 범위는 0 ~ 10 사이이며, y 절편은 0 ~ 100 사이에서 변하게 한다\n",
        "#random_uniform(데이터 형태, 시작값, 끝값, 데이터 타입, 기본값)\n",
        "#seed : 랜덤한 값을 만들때 정확하게 돌아가는지 확인하는 용도\n",
        "a = tf.Variable(tf.random_uniform([1], 0, 10, dtype = tf.float64, seed = 0))\n",
        "b = tf.Variable(tf.random_uniform([1], 0, 100, dtype = tf.float64, seed = 0))\n",
        "\n",
        "#y에 대한 일차 방정식 ax + b의 식을 세운다\n",
        "y = a * x_data + b\n",
        "\n",
        "#텐서플로 RMSE함수\n",
        "rmse = tf.sqrt(tf.reduce_mean(tf.square(y - y_data)))\n",
        "\n",
        "#학습률 값\n",
        "learning_rate = 0.1\n",
        "\n",
        "#RMSE 값을 최소로 하는 값 찾기\n",
        "                  #오차를 최소화하는데 그 훈련 방법이 경사하강법이다\n",
        "gradient_decent = tf.train.GradientDescentOptimizer(learning_rate).minimize(rmse)\n",
        "                  #a, b를 오차가 최소화 하는 방향으로 갱신\n",
        "\n",
        "#텐서플로를 이용한 학습\n",
        "with tf.Session() as sess:    #close 자동\n",
        "    #변수 초기화\n",
        "    #global_variables_initializer()를 이용하여 variable로 입력된 a,b를 사용할 수 있게 하였다\n",
        "    sess.run(tf.global_variables_initializer())\n",
        "    \n",
        "    #2001번 실행(0번째를 포함하므로)\n",
        "    #a, b를 오차가 최소화하는 방향을 찾기 위해 2000번 갱신하였다\n",
        "    for step in range(2001):\n",
        "        sess.run(gradient_decent)\n",
        "        \n",
        "        #100번마다 결과 출력\n",
        "        if step % 100 == 0:\n",
        "            print(\"Epoch: %.f, RMSE = %.04f, 기울기 a = %.4f, y절편 b = %.4f\" %(step, sess.run(rmse), sess.run(a), sess.run(b)))"
      ],
      "execution_count": 6,
      "outputs": [
        {
          "output_type": "stream",
          "name": "stdout",
          "text": [
            "Epoch: 0, RMSE = 30.2139, 기울기 a = 7.5235, y절편 b = 80.5984\n",
            "Epoch: 100, RMSE = 2.8860, 기울기 a = 2.2299, y절편 b = 79.4181\n",
            "Epoch: 200, RMSE = 2.8826, 기울기 a = 2.2601, y절편 b = 79.2379\n",
            "Epoch: 300, RMSE = 2.8815, 기울기 a = 2.2773, y절편 b = 79.1353\n",
            "Epoch: 400, RMSE = 2.8811, 기울기 a = 2.2871, y절편 b = 79.0770\n",
            "Epoch: 500, RMSE = 2.8810, 기울기 a = 2.2927, y절편 b = 79.0438\n",
            "Epoch: 600, RMSE = 2.8810, 기울기 a = 2.2958, y절편 b = 79.0249\n",
            "Epoch: 700, RMSE = 2.8810, 기울기 a = 2.2976, y절편 b = 79.0142\n",
            "Epoch: 800, RMSE = 2.8810, 기울기 a = 2.2987, y절편 b = 79.0081\n",
            "Epoch: 900, RMSE = 2.8810, 기울기 a = 2.2992, y절편 b = 79.0046\n",
            "Epoch: 1000, RMSE = 2.8810, 기울기 a = 2.2996, y절편 b = 79.0026\n",
            "Epoch: 1100, RMSE = 2.8810, 기울기 a = 2.2998, y절편 b = 79.0015\n",
            "Epoch: 1200, RMSE = 2.8810, 기울기 a = 2.2999, y절편 b = 79.0008\n",
            "Epoch: 1300, RMSE = 2.8810, 기울기 a = 2.2999, y절편 b = 79.0005\n",
            "Epoch: 1400, RMSE = 2.8810, 기울기 a = 2.3000, y절편 b = 79.0003\n",
            "Epoch: 1500, RMSE = 2.8810, 기울기 a = 2.3000, y절편 b = 79.0002\n",
            "Epoch: 1600, RMSE = 2.8810, 기울기 a = 2.3000, y절편 b = 79.0001\n",
            "Epoch: 1700, RMSE = 2.8810, 기울기 a = 2.3000, y절편 b = 79.0001\n",
            "Epoch: 1800, RMSE = 2.8810, 기울기 a = 2.3000, y절편 b = 79.0000\n",
            "Epoch: 1900, RMSE = 2.8810, 기울기 a = 2.3000, y절편 b = 79.0000\n",
            "Epoch: 2000, RMSE = 2.8810, 기울기 a = 2.3000, y절편 b = 79.0000\n"
          ]
        }
      ]
    },
    {
      "cell_type": "code",
      "metadata": {
        "colab": {
          "base_uri": "https://localhost:8080/"
        },
        "id": "AL00ebFCruI8",
        "outputId": "1d069011-3653-4749-b407-1d0d14046e9d"
      },
      "source": [
        "#코딩으로 확인하는 경사하강법 - 실습1\n",
        "#A = 0.1756, B = -0.0339 나와야 된다\n",
        "import tensorflow.compat.v1 as tf\n",
        "tf.compat.v1.disable_v2_behavior()\n",
        "\n",
        "data =[[1, 0.2], [2, 0.3], [3, 0.5], [4, 0.6], [5, 0.9], [6, 0.95], [7, 1.1], [8, 1.5]]\n",
        "x_data = [i[0] for i in data]\n",
        "y_data = [i[1] for i in data]\n",
        "\n",
        "a = tf.Variable(tf.random_uniform([1], 0, 1, dtype=tf.float64, seed=0))\n",
        "b = tf.Variable(tf.random_uniform([1], 0, 1, dtype=tf.float64, seed=0))#0,10으로 해도 같은 결과 나온다\n",
        "\n",
        "y = a * x_data + b\n",
        "\n",
        "learning_rate = 0.001\n",
        "\n",
        "rmse = tf.sqrt(tf.reduce_mean(tf.square( y - y_data )))\n",
        "tensor_edge = tf.train.GradientDescentOptimizer(learning_rate).minimize(rmse)\n",
        "\n",
        "with tf.Session() as sess:\n",
        "  sess.run(tf.global_variables_initializer())\n",
        "\n",
        "  for i in range(50001):\n",
        "    sess.run(tensor_edge)\n",
        "\n",
        "    if i%5000 == 0:\n",
        "      print(\"epoch = %.4f, rmse = %.4f, 기울기 a = %.4f, 절편 b = %.4f\"%(i, sess.run(rmse), sess.run(a), sess.run(b)))"
      ],
      "execution_count": 4,
      "outputs": [
        {
          "output_type": "stream",
          "name": "stdout",
          "text": [
            "epoch = 0.0000, rmse = 3.9302, 기울기 a = 0.8019, 절편 b = 0.8060\n",
            "epoch = 5000.0000, rmse = 0.0726, 기울기 a = 0.1756, 절편 b = -0.0339\n",
            "epoch = 10000.0000, rmse = 0.0726, 기울기 a = 0.1756, 절편 b = -0.0339\n",
            "epoch = 15000.0000, rmse = 0.0726, 기울기 a = 0.1756, 절편 b = -0.0339\n",
            "epoch = 20000.0000, rmse = 0.0726, 기울기 a = 0.1756, 절편 b = -0.0339\n",
            "epoch = 25000.0000, rmse = 0.0726, 기울기 a = 0.1756, 절편 b = -0.0339\n",
            "epoch = 30000.0000, rmse = 0.0726, 기울기 a = 0.1756, 절편 b = -0.0339\n",
            "epoch = 35000.0000, rmse = 0.0726, 기울기 a = 0.1756, 절편 b = -0.0339\n",
            "epoch = 40000.0000, rmse = 0.0726, 기울기 a = 0.1756, 절편 b = -0.0339\n",
            "epoch = 45000.0000, rmse = 0.0726, 기울기 a = 0.1756, 절편 b = -0.0339\n",
            "epoch = 50000.0000, rmse = 0.0726, 기울기 a = 0.1756, 절편 b = -0.0339\n"
          ]
        }
      ]
    },
    {
      "cell_type": "code",
      "metadata": {
        "colab": {
          "base_uri": "https://localhost:8080/",
          "height": 942
        },
        "id": "NGVUj2RGF7_D",
        "outputId": "7fc92944-e432-4f32-8e0e-a14edac701e2"
      },
      "source": [
        "#a = 0.0922, b = 11.34근사값\n",
        "import tensorflow.compat.v1 as tf\n",
        "tf.compat.v1.disable_v2_behavior()\n",
        "\n",
        "data = [[100,20], [150,24], [300,36], [400,47], [130,22], [240,32], [350,47], [200,42], [100,21], [110,21], [190,30], [120,25], [130,18], [270,38], [255,28]]\n",
        "x_data = [i[0] for i in data]\n",
        "y_data = [i[1] for i in data]\n",
        "\n",
        "a = tf.Variable(tf.random_uniform([1], 0, 1, dtype = tf.float64, seed=0))\n",
        "b = tf.Variable(tf.random_uniform([1], 1, 15, dtype = tf.float64, seed=0))\n",
        "\n",
        "y = a*x_data + b\n",
        "\n",
        "learning_rate = 0.0001\n",
        "                \n",
        "rmse = tf.sqrt(tf.reduce_mean(tf.square(y - y_data)))\n",
        "gradient_descent = tf.train.GradientDescentOptimizer(learning_rate).minimize(rmse)\n",
        "\n",
        "with tf.Session() as sess:\n",
        "    sess.run(tf.global_variables_initializer())\n",
        "    \n",
        "    for i in range(1000001):\n",
        "        sess.run(gradient_descent)\n",
        "        \n",
        "        if i%50000 == 0:\n",
        "            print(\"epoch = %.4f, rmse = %.4f, 기울기 a = %.4f, 절편 b = %.4f\"%(i, sess.run(rmse), sess.run(a), sess.run(b)))\n",
        "\n",
        "#위의 결과를 그래프로 나타내기\n",
        "pred_y = []\n",
        "for i in x_data:\n",
        "  y = 0.092 * i + 11.33\n",
        "  print(y)\n",
        "  pred_y.append(y)\n",
        "\n",
        "import matplotlib.pyplot as plt\n",
        "#그래프를 그린다\n",
        "#plt.plot(pred_y, pred_y, 'r-')\n",
        "plt.plot(x_data, y_data, 'ro')\n",
        "plt.plot([min(x_data), max(x_data)], [min(pred_y), max(pred_y)])\n",
        "\n",
        "plt.xlabel('distance')\n",
        "plt.ylabel('minute')\n",
        "plt.show()"
      ],
      "execution_count": 7,
      "outputs": [
        {
          "output_type": "stream",
          "name": "stdout",
          "text": [
            "epoch = 0.0000, rmse = 155.4207, 기울기 a = 0.7846, 절편 b = 12.2965\n",
            "epoch = 50000.0000, rmse = 4.2062, 기울기 a = 0.0891, 절편 b = 12.1153\n",
            "epoch = 100000.0000, rmse = 4.2020, 기울기 a = 0.0897, 절편 b = 11.9698\n",
            "epoch = 150000.0000, rmse = 4.1992, 기울기 a = 0.0902, 절편 b = 11.8511\n",
            "epoch = 200000.0000, rmse = 4.1973, 기울기 a = 0.0906, 절편 b = 11.7544\n",
            "epoch = 250000.0000, rmse = 4.1960, 기울기 a = 0.0909, 절편 b = 11.6757\n",
            "epoch = 300000.0000, rmse = 4.1952, 기울기 a = 0.0912, 절편 b = 11.6115\n",
            "epoch = 350000.0000, rmse = 4.1947, 기울기 a = 0.0914, 절편 b = 11.5593\n",
            "epoch = 400000.0000, rmse = 4.1943, 기울기 a = 0.0915, 절편 b = 11.5167\n",
            "epoch = 450000.0000, rmse = 4.1941, 기울기 a = 0.0917, 절편 b = 11.4821\n",
            "epoch = 500000.0000, rmse = 4.1939, 기울기 a = 0.0918, 절편 b = 11.4539\n",
            "epoch = 550000.0000, rmse = 4.1938, 기울기 a = 0.0919, 절편 b = 11.4309\n",
            "epoch = 600000.0000, rmse = 4.1937, 기울기 a = 0.0920, 절편 b = 11.4122\n",
            "epoch = 650000.0000, rmse = 4.1937, 기울기 a = 0.0920, 절편 b = 11.3970\n",
            "epoch = 700000.0000, rmse = 4.1936, 기울기 a = 0.0921, 절편 b = 11.3846\n",
            "epoch = 750000.0000, rmse = 4.1936, 기울기 a = 0.0921, 절편 b = 11.3745\n",
            "epoch = 800000.0000, rmse = 4.1936, 기울기 a = 0.0922, 절편 b = 11.3663\n",
            "epoch = 850000.0000, rmse = 4.1936, 기울기 a = 0.0922, 절편 b = 11.3596\n",
            "epoch = 900000.0000, rmse = 4.1936, 기울기 a = 0.0922, 절편 b = 11.3541\n",
            "epoch = 950000.0000, rmse = 4.1936, 기울기 a = 0.0922, 절편 b = 11.3497\n",
            "epoch = 1000000.0000, rmse = 4.1936, 기울기 a = 0.0922, 절편 b = 11.3461\n",
            "20.53\n",
            "25.13\n",
            "38.93\n",
            "48.129999999999995\n",
            "23.29\n",
            "33.41\n",
            "43.53\n",
            "29.729999999999997\n",
            "20.53\n",
            "21.45\n",
            "28.810000000000002\n",
            "22.369999999999997\n",
            "23.29\n",
            "36.17\n",
            "34.79\n"
          ]
        },
        {
          "output_type": "display_data",
          "data": {
            "image/png": "[encoded data removed]",
            "text/plain": [
              "<Figure size 432x288 with 1 Axes>"
            ]
          },
          "metadata": {
            "needs_background": "light"
          }
        }
      ]
    },
    {
      "cell_type": "code",
      "metadata": {
        "id": "FVdjFS-LG3HT"
      },
      "source": [
        ""
      ],
      "execution_count": null,
      "outputs": []
    }
  ]
}