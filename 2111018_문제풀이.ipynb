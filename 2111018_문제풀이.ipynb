{
  "nbformat": 4,
  "nbformat_minor": 0,
  "metadata": {
    "colab": {
      "name": "2111018_문제풀이",
      "provenance": [],
      "authorship_tag": "ABX9TyNib/cOSMj7Zl475Xzah93V"
    },
    "kernelspec": {
      "name": "python3",
      "display_name": "Python 3"
    },
    "language_info": {
      "name": "python"
    }
  },
  "cells": [
    {
      "cell_type": "markdown",
      "metadata": {
        "id": "_N34dX9APyXj"
      },
      "source": [
        "이항분류/다항분류 예제 - 독버섯 분류  \n",
        "class라는 항목을 통하여 독버섯 여부가 결정되며,  독버섯이면 p, 일반버섯이면 e로 분류.  \n",
        "class와 그외 특징들까지 총 23개의 특징을 가진 데이터.  \n",
        "동일한 data를 사용하여 이항분류로 작성 / 다항분류로 작성(두가지 코드 실습)"
      ]
    },
    {
      "cell_type": "code",
      "metadata": {
        "colab": {
          "base_uri": "https://localhost:8080/"
        },
        "id": "nrdCYboBPtVd",
        "outputId": "d01de229-f4a8-4b30-d34f-09faf561a44c"
      },
      "source": [
        "#다항분류(48% 나옴)\n",
        "from tensorflow.keras.models import Sequential\n",
        "from tensorflow.keras.layers import Dense\n",
        "from sklearn.preprocessing import LabelEncoder    #자연어처리를 위해 사이킷런 다운\n",
        "\n",
        "import pandas as pd\n",
        "import seaborn as sns\n",
        "import matplotlib.pyplot as plt\n",
        "import numpy as np\n",
        "import tensorflow as tf\n",
        "\n",
        "seed = 0\n",
        "np.random.seed(seed)\n",
        "tf.random.set_seed(seed)\n",
        "\n",
        "#데이터 입력\n",
        "df = pd.read_csv(\"/mushrooms.csv\")\n",
        "e = LabelEncoder()\n",
        "\n",
        "for col in df.columns:\n",
        "    df[col] = e.fit_transform(df[col]) # 각 열별로 문자열을 숫자로 변환\n",
        "\n",
        "    #======================================================\n",
        "#데이터 분류\n",
        "dataset = df.values\n",
        "X = dataset[:, 1:].astype(float)    #속성\n",
        "Y = dataset[:, 0].astype(float)    #클래스\n",
        "\n",
        "#모델의 설정\n",
        "model = Sequential()\n",
        "model.add(Dense(10, input_dim=22, activation='relu'))\n",
        "model.add(Dense(10, activation='relu'))\n",
        "model.add(Dense(1, activation='softmax'))\n",
        "\n",
        "#모델 컴파일\n",
        "model.compile(loss = 'categorical_crossentropy', optimizer = 'adam', metrics = ['accuracy'])\n",
        "\n",
        "#모델 실행\n",
        "model.fit(X, Y, epochs = 10, batch_size = 10)\n",
        "\n",
        "#결과 출력\n",
        "print(\"\\n Accuracy : %.4f\" % (model.evaluate(X, Y)[1]))"
      ],
      "execution_count": null,
      "outputs": [
        {
          "output_type": "stream",
          "name": "stdout",
          "text": [
            "Epoch 1/10\n",
            "813/813 [==============================] - 2s 1ms/step - loss: 0.0000e+00 - accuracy: 0.4820\n",
            "Epoch 2/10\n",
            "813/813 [==============================] - 1s 1ms/step - loss: 0.0000e+00 - accuracy: 0.4820\n",
            "Epoch 3/10\n",
            "813/813 [==============================] - 1s 1ms/step - loss: 0.0000e+00 - accuracy: 0.4820\n",
            "Epoch 4/10\n",
            "813/813 [==============================] - 1s 1ms/step - loss: 0.0000e+00 - accuracy: 0.4820\n",
            "Epoch 5/10\n",
            "813/813 [==============================] - 1s 1ms/step - loss: 0.0000e+00 - accuracy: 0.4820\n",
            "Epoch 6/10\n",
            "813/813 [==============================] - 1s 1ms/step - loss: 0.0000e+00 - accuracy: 0.4820\n",
            "Epoch 7/10\n",
            "813/813 [==============================] - 1s 1ms/step - loss: 0.0000e+00 - accuracy: 0.4820\n",
            "Epoch 8/10\n",
            "813/813 [==============================] - 1s 1ms/step - loss: 0.0000e+00 - accuracy: 0.4820\n",
            "Epoch 9/10\n",
            "813/813 [==============================] - 1s 1ms/step - loss: 0.0000e+00 - accuracy: 0.4820\n",
            "Epoch 10/10\n",
            "813/813 [==============================] - 1s 1ms/step - loss: 0.0000e+00 - accuracy: 0.4820\n",
            "254/254 [==============================] - 0s 1ms/step - loss: 0.0000e+00 - accuracy: 0.4820\n",
            "\n",
            " Accuracy : 0.4820\n"
          ]
        }
      ]
    },
    {
      "cell_type": "code",
      "metadata": {
        "colab": {
          "base_uri": "https://localhost:8080/"
        },
        "id": "6KrmVovdQQ0E",
        "outputId": "0b54420b-9552-4bb2-a2bc-e2daa1ed0aa5"
      },
      "source": [
        "#다항분류\n",
        "from tensorflow.keras.models import Sequential\n",
        "from tensorflow.keras.layers import Dense\n",
        "from sklearn.preprocessing import LabelEncoder    #자연어처리를 위해 사이킷런 다운\n",
        "\n",
        "import pandas as pd\n",
        "import seaborn as sns\n",
        "import matplotlib.pyplot as plt\n",
        "import numpy as np\n",
        "import tensorflow as tf\n",
        "\n",
        "seed = 0\n",
        "np.random.seed(seed)\n",
        "tf.random.set_seed(seed)\n",
        "\n",
        "#데이터 입력\n",
        "df = pd.read_csv(\"/mushrooms.csv\")\n",
        "\n",
        "\n",
        "for col in df.columns:\n",
        "    df[col] = LabelEncoder().fit_transform(df[col]) # 각 열별로 문자열을 숫자로 변환\n",
        "\n",
        "#데이터 분류\n",
        "dataset = df.values\n",
        "X = dataset[:, 1:].astype(float)    #속성\n",
        "Y_obj = dataset[:, 0].astype(float)    #클래스\n",
        "\n",
        "#문자열을 숫자로 변환\n",
        "e = LabelEncoder()\n",
        "e.fit(Y_obj)\n",
        "Y = e.transform(Y_obj)\n",
        "Y_encoded = tf.keras.utils.to_categorical(Y)\n",
        "\n",
        "#모델의 설정\n",
        "model = Sequential()\n",
        "model.add(Dense(88, input_dim=22, activation='relu'))\n",
        "model.add(Dense(22, activation='relu'))\n",
        "model.add(Dense(2, activation='softmax'))\n",
        "\n",
        "#모델 컴파일\n",
        "model.compile(loss = 'categorical_crossentropy', optimizer = 'adam', metrics = ['accuracy'])\n",
        "\n",
        "#모델 실행\n",
        "model.fit(X, Y_encoded, epochs = 10, batch_size = 11)\n",
        "\n",
        "#결과 출력\n",
        "print(\"\\n Accuracy : %.4f\" % (model.evaluate(X, Y_encoded)[1]))"
      ],
      "execution_count": 11,
      "outputs": [
        {
          "output_type": "stream",
          "name": "stdout",
          "text": [
            "Epoch 1/10\n",
            "739/739 [==============================] - 2s 2ms/step - loss: 0.1966 - accuracy: 0.9189\n",
            "Epoch 2/10\n",
            "739/739 [==============================] - 1s 2ms/step - loss: 0.0358 - accuracy: 0.9888\n",
            "Epoch 3/10\n",
            "739/739 [==============================] - 1s 1ms/step - loss: 0.0122 - accuracy: 0.9967\n",
            "Epoch 4/10\n",
            "739/739 [==============================] - 1s 1ms/step - loss: 0.0060 - accuracy: 0.9983\n",
            "Epoch 5/10\n",
            "739/739 [==============================] - 1s 1ms/step - loss: 0.0052 - accuracy: 0.9983\n",
            "Epoch 6/10\n",
            "739/739 [==============================] - 1s 1ms/step - loss: 0.0040 - accuracy: 0.9990\n",
            "Epoch 7/10\n",
            "739/739 [==============================] - 1s 2ms/step - loss: 6.3475e-04 - accuracy: 1.0000\n",
            "Epoch 8/10\n",
            "739/739 [==============================] - 1s 1ms/step - loss: 0.0019 - accuracy: 0.9996\n",
            "Epoch 9/10\n",
            "739/739 [==============================] - 1s 1ms/step - loss: 0.0076 - accuracy: 0.9974\n",
            "Epoch 10/10\n",
            "739/739 [==============================] - 1s 1ms/step - loss: 8.2190e-04 - accuracy: 0.9996\n",
            "254/254 [==============================] - 0s 1ms/step - loss: 1.4727e-04 - accuracy: 1.0000\n",
            "\n",
            " Accuracy : 1.0000\n"
          ]
        }
      ]
    },
    {
      "cell_type": "code",
      "metadata": {
        "colab": {
          "base_uri": "https://localhost:8080/"
        },
        "id": "lO7g4EWnQUj9",
        "outputId": "5c198bf1-7ebf-459a-dce6-51d24b62644c"
      },
      "source": [
        "#이항분류\n",
        "from tensorflow.keras.models import Sequential\n",
        "from tensorflow.keras.layers import Dense\n",
        "from sklearn.preprocessing import LabelEncoder    #자연어처리를 위해 사이킷런 다운\n",
        "\n",
        "import pandas as pd\n",
        "import seaborn as sns\n",
        "import matplotlib.pyplot as plt\n",
        "import numpy as np\n",
        "import tensorflow as tf\n",
        "\n",
        "#데이터 입력\n",
        "df = pd.read_csv(\"/mushrooms.csv\")\n",
        "\n",
        "for col in df.columns:\n",
        "    df[col] = LabelEncoder().fit_transform(df[col]) # 각 열별로 문자열을 숫자로 변환\n",
        "\n",
        "    #======================================================\n",
        "#모델의 설정\n",
        "model = Sequential()\n",
        "model.add(Dense(10, input_dim=22, activation='relu'))\n",
        "model.add(Dense(10, activation='relu'))\n",
        "model.add(Dense(1, activation='sigmoid'))\n",
        "\n",
        "#데이터 분류\n",
        "dataset = df.values\n",
        "X = dataset[:, 1:].astype(float)    #속성\n",
        "Y = dataset[:, 0]    #클래스\n",
        "\n",
        "#모델 컴파일\n",
        "model.compile(loss = 'binary_crossentropy', optimizer = 'adam', metrics = ['accuracy'])\n",
        "\n",
        "#모델 실행\n",
        "model.fit(X, Y, epochs = 20, batch_size = 10)\n",
        "\n",
        "#결과 출력\n",
        "ans = model.evaluate(X, Y)\n",
        "print(\"\\n Accuracy : %.2f%%\" % (ans[1]*100))"
      ],
      "execution_count": null,
      "outputs": [
        {
          "output_type": "stream",
          "name": "stdout",
          "text": [
            "Epoch 1/20\n",
            "813/813 [==============================] - 2s 2ms/step - loss: 0.3516 - accuracy: 0.8357\n",
            "Epoch 2/20\n",
            "813/813 [==============================] - 1s 1ms/step - loss: 0.1809 - accuracy: 0.9296\n",
            "Epoch 3/20\n",
            "813/813 [==============================] - 1s 2ms/step - loss: 0.1136 - accuracy: 0.9628\n",
            "Epoch 4/20\n",
            "813/813 [==============================] - 1s 1ms/step - loss: 0.0772 - accuracy: 0.9772\n",
            "Epoch 5/20\n",
            "813/813 [==============================] - 1s 2ms/step - loss: 0.0527 - accuracy: 0.9852\n",
            "Epoch 6/20\n",
            "813/813 [==============================] - 1s 2ms/step - loss: 0.0378 - accuracy: 0.9890\n",
            "Epoch 7/20\n",
            "813/813 [==============================] - 1s 1ms/step - loss: 0.0299 - accuracy: 0.9918\n",
            "Epoch 8/20\n",
            "813/813 [==============================] - 1s 1ms/step - loss: 0.0215 - accuracy: 0.9948\n",
            "Epoch 9/20\n",
            "813/813 [==============================] - 1s 1ms/step - loss: 0.0190 - accuracy: 0.9953\n",
            "Epoch 10/20\n",
            "813/813 [==============================] - 1s 2ms/step - loss: 0.0134 - accuracy: 0.9970\n",
            "Epoch 11/20\n",
            "813/813 [==============================] - 1s 1ms/step - loss: 0.0100 - accuracy: 0.9984\n",
            "Epoch 12/20\n",
            "813/813 [==============================] - 1s 2ms/step - loss: 0.0068 - accuracy: 0.9994\n",
            "Epoch 13/20\n",
            "813/813 [==============================] - 1s 2ms/step - loss: 0.0051 - accuracy: 0.9995\n",
            "Epoch 14/20\n",
            "813/813 [==============================] - 1s 2ms/step - loss: 0.0045 - accuracy: 0.9994\n",
            "Epoch 15/20\n",
            "813/813 [==============================] - 1s 2ms/step - loss: 0.0035 - accuracy: 0.9995\n",
            "Epoch 16/20\n",
            "813/813 [==============================] - 1s 2ms/step - loss: 0.0035 - accuracy: 0.9993\n",
            "Epoch 17/20\n",
            "813/813 [==============================] - 1s 1ms/step - loss: 0.0020 - accuracy: 0.9999\n",
            "Epoch 18/20\n",
            "813/813 [==============================] - 1s 1ms/step - loss: 0.0011 - accuracy: 0.9999\n",
            "Epoch 19/20\n",
            "813/813 [==============================] - 1s 2ms/step - loss: 0.0029 - accuracy: 0.9995\n",
            "Epoch 20/20\n",
            "813/813 [==============================] - 1s 2ms/step - loss: 6.2782e-04 - accuracy: 1.0000\n",
            "254/254 [==============================] - 0s 1ms/step - loss: 5.2437e-04 - accuracy: 1.0000\n",
            "\n",
            " Accuracy : 100.00%\n"
          ]
        }
      ]
    },
    {
      "cell_type": "code",
      "metadata": {
        "id": "bfQhiCHqQk2q"
      },
      "source": [
        ""
      ],
      "execution_count": null,
      "outputs": []
    }
  ]
}