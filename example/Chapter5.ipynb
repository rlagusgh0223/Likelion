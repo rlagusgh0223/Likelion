{
 "cells": [
  {
   "cell_type": "markdown",
   "id": "ca865459",
   "metadata": {},
   "source": [
    "# CNN"
   ]
  },
  {
   "cell_type": "markdown",
   "id": "b908d9de",
   "metadata": {},
   "source": [
    "# MINIST 손글씨 인식 : 기본프레임"
   ]
  },
  {
   "cell_type": "code",
   "execution_count": 19,
   "id": "2ba244c8",
   "metadata": {},
   "outputs": [
    {
     "name": "stdout",
     "output_type": "stream",
     "text": [
      "\n",
      "Epoch 00001: val_loss improved from inf to 0.15294, saving model to ./model\\01-0.1529.hdf5\n",
      "\n",
      "Epoch 00002: val_loss improved from 0.15294 to 0.10525, saving model to ./model\\02-0.1052.hdf5\n",
      "\n",
      "Epoch 00003: val_loss improved from 0.10525 to 0.08174, saving model to ./model\\03-0.0817.hdf5\n",
      "\n",
      "Epoch 00004: val_loss improved from 0.08174 to 0.07618, saving model to ./model\\04-0.0762.hdf5\n",
      "\n",
      "Epoch 00005: val_loss improved from 0.07618 to 0.06730, saving model to ./model\\05-0.0673.hdf5\n",
      "\n",
      "Epoch 00006: val_loss improved from 0.06730 to 0.06694, saving model to ./model\\06-0.0669.hdf5\n",
      "\n",
      "Epoch 00007: val_loss improved from 0.06694 to 0.06069, saving model to ./model\\07-0.0607.hdf5\n",
      "\n",
      "Epoch 00008: val_loss did not improve from 0.06069\n",
      "\n",
      "Epoch 00009: val_loss improved from 0.06069 to 0.05968, saving model to ./model\\09-0.0597.hdf5\n",
      "\n",
      "Epoch 00010: val_loss did not improve from 0.05968\n",
      "\n",
      "Epoch 00011: val_loss did not improve from 0.05968\n",
      "\n",
      "Epoch 00012: val_loss did not improve from 0.05968\n",
      "\n",
      "Epoch 00013: val_loss did not improve from 0.05968\n",
      "\n",
      "Epoch 00014: val_loss did not improve from 0.05968\n",
      "\n",
      "Epoch 00015: val_loss improved from 0.05968 to 0.05911, saving model to ./model\\15-0.0591.hdf5\n",
      "\n",
      "Epoch 00016: val_loss did not improve from 0.05911\n",
      "\n",
      "Epoch 00017: val_loss did not improve from 0.05911\n",
      "\n",
      "Epoch 00018: val_loss did not improve from 0.05911\n",
      "\n",
      "Epoch 00019: val_loss did not improve from 0.05911\n",
      "\n",
      "Epoch 00020: val_loss did not improve from 0.05911\n",
      "\n",
      "Epoch 00021: val_loss did not improve from 0.05911\n",
      "\n",
      "Epoch 00022: val_loss did not improve from 0.05911\n",
      "\n",
      "Epoch 00023: val_loss did not improve from 0.05911\n",
      "\n",
      "Epoch 00024: val_loss did not improve from 0.05911\n",
      "\n",
      "Epoch 00025: val_loss did not improve from 0.05911\n",
      "313/313 [==============================] - 1s 3ms/step - loss: 0.0694 - accuracy: 0.9835\n",
      "\n",
      " Test Accuracy : 0.9835\n"
     ]
    },
    {
     "data": {
      "image/png": "[encoded data removed]",
      "text/plain": [
       "<Figure size 432x288 with 1 Axes>"
      ]
     },
     "metadata": {
      "needs_background": "light"
     },
     "output_type": "display_data"
    }
   ],
   "source": [
    "from tensorflow.keras.datasets import mnist\n",
    "from tensorflow.keras.models import Sequential\n",
    "from tensorflow.keras.layers import Dense\n",
    "from tensorflow.keras.callbacks import ModelCheckpoint, EarlyStopping\n",
    "\n",
    "import matplotlib.pyplot as plt\n",
    "import numpy as np\n",
    "import os\n",
    "import tensorflow as tf\n",
    "\n",
    "#seed 값 설정\n",
    "seed = 0\n",
    "np.random.seed(seed)\n",
    "tf.random.set_seed(seed)\n",
    "\n",
    "#MNIST 데이터 불러오기\n",
    "(X_train, Y_train), (X_test, Y_test) = mnist.load_data()\n",
    "\n",
    "X_train = X_train.reshape(X_train.shape[0], 784).astype('float32') / 255\n",
    "X_test = X_test.reshape(X_test.shape[0], 784).astype('float32') / 255\n",
    "\n",
    "Y_train = tf.keras.utils.to_categorical(Y_train, 10)\n",
    "Y_test = tf.keras.utils.to_categorical(Y_test, 10)\n",
    "\n",
    "#모델 프레임 설정\n",
    "model = Sequential()\n",
    "model.add(Dense(512, input_dim=784, activation='relu'))\n",
    "model.add(Dense(10, activation='softmax'))\n",
    "\n",
    "#모델 실행 환경 설정\n",
    "model.compile(loss='categorical_crossentropy', optimizer='adam', metrics=['accuracy'])\n",
    "\n",
    "#모델 최적화 설정\n",
    "MODEL_DIR = './model/'\n",
    "if not os.path.exists(MODEL_DIR):\n",
    "    os.mkdir(MODEL_DIR)\n",
    "    \n",
    "modelpath = './model/{epoch:02d}-{val_loss:.4f}.hdf5'\n",
    "checkpointer = ModelCheckpoint(filepath=modelpath, monitor='val_loss', verbose=1, save_best_only=True)\n",
    "early_stopping_callback = EarlyStopping(monitor='val_loss', patience=10)\n",
    "\n",
    "#모델의 실행\n",
    "history = model.fit(X_train, Y_train, validation_data = (X_test, Y_test), epochs=30, batch_size=200, verbose=0, callbacks=[early_stopping_callback, checkpointer])\n",
    "\n",
    "#테스트 정확도 출력\n",
    "print(\"\\n Test Accuracy : %.4f\" %(model.evaluate(X_test, Y_test)[1]))\n",
    "\n",
    "#테스트셋의 오차\n",
    "y_vloss = history.history['val_loss']\n",
    "\n",
    "#학습셋의 오차\n",
    "y_loss = history.history['loss']\n",
    "\n",
    "#그래프로 표현\n",
    "x_len = np.arange(len(y_loss))\n",
    "plt.plot(x_len, y_vloss, marker='.', c='red', label='Testset_loss')\n",
    "plt.plot(x_len, y_loss, marker='.', c='blue', label='Trainset_loss')\n",
    "\n",
    "#그래프에 그리드를 주고 레이블을 표시\n",
    "plt.legend(loc='upper right')\n",
    "plt.grid()\n",
    "plt.xlabel('epoch')\n",
    "plt.ylabel('loss')\n",
    "plt.show()"
   ]
  },
  {
   "cell_type": "markdown",
   "id": "c9c51f3c",
   "metadata": {},
   "source": [
    "# MNIST 손글씨 인식 : 컨볼루션 신경망 적용"
   ]
  },
  {
   "cell_type": "code",
   "execution_count": 6,
   "id": "142ad526",
   "metadata": {},
   "outputs": [],
   "source": [
    "from tensorflow.keras.datasets import mnist\n",
    "from tensorflow.keras.models import Sequential\n",
    "from tensorflow.keras.layers import Dense, Dropout, Flatten, Conv2D, MaxPooling2D\n",
    "from tensorflow.keras.callbacks import ModelCheckpoint, EarlyStopping\n",
    "\n",
    "import matplotlib.pyplot as plt\n",
    "import numpy as np\n",
    "import os\n",
    "import tensorflow as tf\n",
    "\n",
    "#seed값 설정\n",
    "seed = 0\n",
    "np.random.seed(seed)\n",
    "tf.random.set_seed(seed)"
   ]
  },
  {
   "cell_type": "code",
   "execution_count": 7,
   "id": "e51c0479",
   "metadata": {},
   "outputs": [],
   "source": [
    "#데이터 불러오기\n",
    "(X_train, Y_train), (X_test, Y_test) = mnist.load_data()\n",
    "\n",
    "X_train = X_train.reshape(X_train.shape[0], 28, 28, 1).astype('float32') / 255\n",
    "X_test = X_test.reshape(X_test.shape[0], 28, 28, 1).astype('float32') / 255\n",
    "Y_train = tf.keras.utils.to_categorical(Y_train)\n",
    "Y_test = tf.keras.utils.to_categorical(Y_test)\n",
    "\n",
    "#컨볼루션 신경망 설정\n",
    "model = Sequential()\n",
    "model.add(Conv2D(32, kernel_size=(3, 3), input_shape=(28, 28, 1), activation='relu'))\n",
    "model.add(Conv2D(64, (3, 3), activation='relu'))\n",
    "model.add(MaxPooling2D(pool_size=2))\n",
    "model.add(Dropout(0.25))\n",
    "model.add(Flatten())\n",
    "model.add(Dense(128, activation='relu'))\n",
    "model.add(Dropout(0.5))\n",
    "model.add(Dense(10, activation='softmax'))"
   ]
  },
  {
   "cell_type": "code",
   "execution_count": 8,
   "id": "dd404857",
   "metadata": {},
   "outputs": [
    {
     "name": "stdout",
     "output_type": "stream",
     "text": [
      "\n",
      "Epoch 00001: val_loss improved from inf to 0.05663, saving model to ./model\\01-0.0566.hdf5\n",
      "\n",
      "Epoch 00002: val_loss improved from 0.05663 to 0.04209, saving model to ./model\\02-0.0421.hdf5\n",
      "\n",
      "Epoch 00003: val_loss improved from 0.04209 to 0.03553, saving model to ./model\\03-0.0355.hdf5\n",
      "\n",
      "Epoch 00004: val_loss improved from 0.03553 to 0.03286, saving model to ./model\\04-0.0329.hdf5\n",
      "\n",
      "Epoch 00005: val_loss improved from 0.03286 to 0.02785, saving model to ./model\\05-0.0278.hdf5\n",
      "\n",
      "Epoch 00006: val_loss did not improve from 0.02785\n",
      "\n",
      "Epoch 00007: val_loss improved from 0.02785 to 0.02698, saving model to ./model\\07-0.0270.hdf5\n",
      "\n",
      "Epoch 00008: val_loss did not improve from 0.02698\n",
      "\n",
      "Epoch 00009: val_loss did not improve from 0.02698\n",
      "\n",
      "Epoch 00010: val_loss did not improve from 0.02698\n",
      "\n",
      "Epoch 00011: val_loss did not improve from 0.02698\n",
      "\n",
      "Epoch 00012: val_loss did not improve from 0.02698\n",
      "\n",
      "Epoch 00013: val_loss did not improve from 0.02698\n",
      "\n",
      "Epoch 00014: val_loss did not improve from 0.02698\n",
      "\n",
      "Epoch 00015: val_loss did not improve from 0.02698\n",
      "\n",
      "Epoch 00016: val_loss improved from 0.02698 to 0.02351, saving model to ./model\\16-0.0235.hdf5\n",
      "\n",
      "Epoch 00017: val_loss did not improve from 0.02351\n",
      "\n",
      "Epoch 00018: val_loss did not improve from 0.02351\n",
      "\n",
      "Epoch 00019: val_loss did not improve from 0.02351\n",
      "\n",
      "Epoch 00020: val_loss did not improve from 0.02351\n",
      "\n",
      "Epoch 00021: val_loss did not improve from 0.02351\n",
      "\n",
      "Epoch 00022: val_loss did not improve from 0.02351\n",
      "\n",
      "Epoch 00023: val_loss did not improve from 0.02351\n",
      "\n",
      "Epoch 00024: val_loss did not improve from 0.02351\n",
      "\n",
      "Epoch 00025: val_loss did not improve from 0.02351\n",
      "\n",
      "Epoch 00026: val_loss did not improve from 0.02351\n"
     ]
    }
   ],
   "source": [
    "model.compile(loss='categorical_crossentropy', optimizer='adam', metrics=['accuracy'])\n",
    "\n",
    "#모델 최적화 설정\n",
    "MODEL_DIR = './model/'\n",
    "if not os.path.exists(MODEL_DIR):\n",
    "    os.mkdir(MODEL_DIR)\n",
    "    \n",
    "modelpath = './model/{epoch:02d}-{val_loss:.4f}.hdf5'\n",
    "checkpointer = ModelCheckpoint(filepath=modelpath, monitor='val_loss', verbose=1, save_best_only=True)\n",
    "early_stopping_callback = EarlyStopping(monitor='val_loss', patience=10)\n",
    "\n",
    "#모델의 실행\n",
    "history = model.fit(X_train, Y_train, validation_data=(X_test, Y_test), epochs=30, batch_size=200, verbose=0, callbacks=[early_stopping_callback,checkpointer])"
   ]
  },
  {
   "cell_type": "code",
   "execution_count": 9,
   "id": "2f756f07",
   "metadata": {},
   "outputs": [
    {
     "name": "stdout",
     "output_type": "stream",
     "text": [
      "313/313 [==============================] - 2s 5ms/step - loss: 0.0304 - accuracy: 0.9923\n",
      "\n",
      " Test Accuracy : 0.9923\n"
     ]
    },
    {
     "data": {
      "image/png": "[encoded data removed]",
      "text/plain": [
       "<Figure size 432x288 with 1 Axes>"
      ]
     },
     "metadata": {
      "needs_background": "light"
     },
     "output_type": "display_data"
    }
   ],
   "source": [
    "#테스트 정확도 출력\n",
    "print(\"\\n Test Accuracy : %.4f\" %(model.evaluate(X_test, Y_test)[1]))\n",
    "\n",
    "#테스트셋의 오차\n",
    "y_vloss = history.history['val_loss']\n",
    "\n",
    "#학습셋의 오차\n",
    "y_loss = history.history['loss']\n",
    "\n",
    "#그래프로 표현\n",
    "x_len = np.arange(len(y_loss))\n",
    "plt.plot(x_len, y_vloss, marker='.', c='red', label='Testset_loss')\n",
    "plt.plot(x_len, y_loss, marker='.', c='blue', label='Trainset_loss')\n",
    "\n",
    "#그래프에 그리드를 주고 레이블을 표시\n",
    "plt.legend(loc='upper right')\n",
    "plt.grid()\n",
    "plt.xlabel('epoch')\n",
    "plt.ylabel('loss')\n",
    "plt.show()"
   ]
  },
  {
   "cell_type": "code",
   "execution_count": null,
   "id": "7e5de3d2",
   "metadata": {},
   "outputs": [],
   "source": []
  }
 ],
 "metadata": {
  "kernelspec": {
   "display_name": "Python 3 (ipykernel)",
   "language": "python",
   "name": "python3"
  },
  "language_info": {
   "codemirror_mode": {
    "name": "ipython",
    "version": 3
   },
   "file_extension": ".py",
   "mimetype": "text/x-python",
   "name": "python",
   "nbconvert_exporter": "python",
   "pygments_lexer": "ipython3",
   "version": "3.8.11"
  }
 },
 "nbformat": 4,
 "nbformat_minor": 5
}
