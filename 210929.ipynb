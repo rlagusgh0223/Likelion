{
  "nbformat": 4,
  "nbformat_minor": 0,
  "metadata": {
    "colab": {
      "name": "210929",
      "provenance": [],
      "authorship_tag": "ABX9TyOdFol9lx74mfA7t2BK5GSp"
    },
    "kernelspec": {
      "name": "python3",
      "display_name": "Python 3"
    },
    "language_info": {
      "name": "python"
    }
  },
  "cells": [
    {
      "cell_type": "code",
      "metadata": {
        "colab": {
          "base_uri": "https://localhost:8080/"
        },
        "id": "VahweHytroD4",
        "outputId": "34f96e79-a375-4948-92ea-5ad3acbee4c4"
      },
      "source": [
        "import numpy as np\n",
        "ar = np.array([0,1,2,3,4,5,6,7,8,9])\n",
        "print(ar)\n",
        "print(type(ar))\n",
        "data = [0,1,2,3,4,5,6,7,8,9]\n",
        "print(type(data))"
      ],
      "execution_count": 3,
      "outputs": [
        {
          "output_type": "stream",
          "name": "stdout",
          "text": [
            "[0 1 2 3 4 5 6 7 8 9]\n",
            "<class 'numpy.ndarray'>\n",
            "<class 'list'>\n"
          ]
        }
      ]
    },
    {
      "cell_type": "code",
      "metadata": {
        "colab": {
          "base_uri": "https://localhost:8080/"
        },
        "id": "yhMnmBw6r9LY",
        "outputId": "c29e3eb8-f46c-4ea3-b2f7-1030dd7a1f79"
      },
      "source": [
        "#for 반복문을 이용하면 다음과 같이 구현할 수 있다\n",
        "answer = []\n",
        "for di in data:\n",
        "  answer.append(2*di)\n",
        "print(answer)"
      ],
      "execution_count": 4,
      "outputs": [
        {
          "output_type": "stream",
          "name": "stdout",
          "text": [
            "[0, 2, 4, 6, 8, 10, 12, 14, 16, 18]\n"
          ]
        }
      ]
    },
    {
      "cell_type": "code",
      "metadata": {
        "colab": {
          "base_uri": "https://localhost:8080/"
        },
        "id": "BOMLHQLtsZnb",
        "outputId": "8859660d-036a-4ecd-9307-917733cf6970"
      },
      "source": [
        "#array는 numpy에 있는 배열로 import numpy를 한 다음에 쓸 수 있다\n",
        "#리스트보다 구동 시간과 용량이 작으며 동일한 문자형(int같은거)만 사용 가능하다\n",
        "x = np.array(data)\n",
        "print(x)\n",
        "\n",
        "#array는 벡터연산으로 배열에 2를 곱하면 각 요소에 2를 곱한 값이 나오지만\n",
        "print(2*x)\n",
        "\n",
        "#리스트는 2를 곱하면 자료가 2배로 는다\n",
        "L = [0,1,2,3,4,5,6,7,8,9]\n",
        "print(2*L)"
      ],
      "execution_count": 6,
      "outputs": [
        {
          "output_type": "stream",
          "name": "stdout",
          "text": [
            "[0 1 2 3 4 5 6 7 8 9]\n",
            "[ 0  2  4  6  8 10 12 14 16 18]\n",
            "[0, 1, 2, 3, 4, 5, 6, 7, 8, 9, 0, 1, 2, 3, 4, 5, 6, 7, 8, 9]\n"
          ]
        }
      ]
    },
    {
      "cell_type": "code",
      "metadata": {
        "colab": {
          "base_uri": "https://localhost:8080/"
        },
        "id": "ylhE3XsntJ6U",
        "outputId": "c406527c-d3d2-4b52-8b21-beee5e9970dc"
      },
      "source": [
        "#벡터화 연산은 비교 연산과 논리 연산을 포함한\n",
        "#모든 종류의 수학 연산에 대해 적용된다\n",
        "a = np.array([1,2,3])\n",
        "b = np.array([10,20,30])\n",
        "print(2*a + b)\n",
        "\n",
        "#일반적인 리스트 객체는 다음과 같이 동작\n",
        "a_L = [1,2,3]\n",
        "b_L = [10,20,30]\n",
        "print(2*a_L + b_L)\n",
        "\n",
        "#비교 연산자나 논리 연산자도 다음과 같이 사용된다\n",
        "print(a == 2)\n",
        "print(b>10)\n",
        "print((a==2) & (b>10))"
      ],
      "execution_count": 8,
      "outputs": [
        {
          "output_type": "stream",
          "name": "stdout",
          "text": [
            "[12 24 36]\n",
            "[1, 2, 3, 1, 2, 3, 10, 20, 30]\n",
            "[False  True False]\n",
            "[False  True  True]\n",
            "[False  True False]\n"
          ]
        }
      ]
    },
    {
      "cell_type": "code",
      "metadata": {
        "colab": {
          "base_uri": "https://localhost:8080/"
        },
        "id": "5yg2Azd4sn7x",
        "outputId": "4c3c6f34-f6e6-458b-e055-9c791c11c995"
      },
      "source": [
        "#2차원 배열 만들기\n",
        "#가로줄 행(횡렬 생각하자)\n",
        "#세로줄 열\n",
        "c = np.array([[0,1,2],[3,4,5]])\n",
        "print(c)\n",
        "\n",
        "#2차원 배열의 행과 열의 갯수는 다음처럼 구한다\n",
        "print(len(c))    #행의 갯수\n",
        "print(len(c[0]))    #열의 갯수"
      ],
      "execution_count": 10,
      "outputs": [
        {
          "output_type": "stream",
          "name": "stdout",
          "text": [
            "[[0 1 2]\n",
            " [3 4 5]]\n",
            "2\n",
            "3\n"
          ]
        }
      ]
    },
    {
      "cell_type": "code",
      "metadata": {
        "colab": {
          "base_uri": "https://localhost:8080/"
        },
        "id": "aTXhgc8LuBN7",
        "outputId": "2f9178a9-07a7-45ce-c3eb-f4570a99e555"
      },
      "source": [
        "#3차원 배열 만들기\n",
        "#리스트의 리스트의 리스트를 이용하면 3차원 배열도 생성할 수 있다\n",
        "#크기를 나타낼 때는 가장 바깥쪽 리스트의 길이부터 가장 안쪽 리스트 길이의 순서로 표시\n",
        "d = np.array([[[1,2,3,4],\n",
        "             [5,6,7,8],\n",
        "             [9,10,11,12]],\n",
        "            [[11,12,13,14],\n",
        "             [15,16,17,18],\n",
        "             [19,20,21,22]]])\n",
        "#3차원 배열의 깊이, 행, 열은 다음과 같이 구할 수 있다\n",
        "print(len(d), len(d[0]), len(d[0][0]))"
      ],
      "execution_count": 12,
      "outputs": [
        {
          "output_type": "stream",
          "name": "stdout",
          "text": [
            "2 3 4\n"
          ]
        }
      ]
    },
    {
      "cell_type": "code",
      "metadata": {
        "colab": {
          "base_uri": "https://localhost:8080/"
        },
        "id": "6zf7zldauXvz",
        "outputId": "7ac7e2e6-1145-4baf-fc1a-cb1c47de854d"
      },
      "source": [
        "#numpy.array에서는 ndim은 몇 차원인지,\n",
        "#shape는 배열의 길이를 나타낸다. 이때 배열의 길이는 같아야 한다\n",
        "a = np.array([[10,20,30,40],[50,60,70,80]])\n",
        "print(a.ndim)\n",
        "print(a.shape)\n",
        "\n",
        "c = np.array([[0,1,2],[3,4,5]])\n",
        "print(c.ndim)\n",
        "print(c.shape)\n",
        "\n",
        "d = np.array([[[1,2,3,4],\n",
        "             [5,6,7,8],\n",
        "             [9,10,11,12]],\n",
        "              [[11,12,13,14],\n",
        "              [15,16,17,18],\n",
        "              [19,20,21,22]]])\n",
        "print(d.ndim)\n",
        "print(d.shape)"
      ],
      "execution_count": 13,
      "outputs": [
        {
          "output_type": "stream",
          "name": "stdout",
          "text": [
            "2\n",
            "(2, 4)\n",
            "2\n",
            "(2, 3)\n",
            "3\n",
            "(2, 3, 4)\n"
          ]
        }
      ]
    },
    {
      "cell_type": "code",
      "metadata": {
        "colab": {
          "base_uri": "https://localhost:8080/"
        },
        "id": "HAL0i0ZiuxLa",
        "outputId": "246aae1a-7acd-4edf-f89d-b1af8d79cbe1"
      },
      "source": [
        "#array의 값 호출\n",
        "a = np.array([0,1,2,3,4])\n",
        "print(a[2])\n",
        "\n",
        "#numpy.array에서 -1은 맨 마지막 수를 의미한다\n",
        "print(a[-1])\n",
        "\n",
        "#리스트와 달리 앞에가 행, 뒤에가 열이다\n",
        "a = np.array([[0,1,2],[3,4,5]])\n",
        "print(a)\n",
        "print(a[0,0])    #첫번째 행 첫번쩨 열\n",
        "print(a[0,1])    #첫번째 행 두번째 열\n",
        "print(a[-1][-1])    #마지막 행 마지막 열"
      ],
      "execution_count": 14,
      "outputs": [
        {
          "output_type": "stream",
          "name": "stdout",
          "text": [
            "2\n",
            "4\n",
            "[[0 1 2]\n",
            " [3 4 5]]\n",
            "0\n",
            "1\n",
            "5\n"
          ]
        }
      ]
    },
    {
      "cell_type": "code",
      "metadata": {
        "colab": {
          "base_uri": "https://localhost:8080/"
        },
        "id": "XVLS3DaDvPmP",
        "outputId": "ae4423ef-c0a7-4ccf-b749-e9ada23fa6f2"
      },
      "source": [
        "#배열 슬라이싱\n",
        "a = np.array([[0,1,2,3],[4,5,6,7]])\n",
        "print(a)\n",
        "print(a[0, :])    #첫번째 행 전체\n",
        "print(a[:, 1])    #두번째 열 전체\n",
        "print(a[1, 1:])    #두번째 행의 두번째 열부터 끝열까지\n",
        "print(a[:2, :2])    #두번째 행까지 두번재 열까지"
      ],
      "execution_count": 15,
      "outputs": [
        {
          "output_type": "stream",
          "name": "stdout",
          "text": [
            "[[0 1 2 3]\n",
            " [4 5 6 7]]\n",
            "[0 1 2 3]\n",
            "[1 5]\n",
            "[5 6 7]\n",
            "[[0 1]\n",
            " [4 5]]\n"
          ]
        }
      ]
    },
    {
      "cell_type": "code",
      "metadata": {
        "colab": {
          "base_uri": "https://localhost:8080/"
        },
        "id": "bXV5t266vtDQ",
        "outputId": "8e48b257-df70-4892-a33d-ef048e8cf753"
      },
      "source": [
        "#아래와 같은 행렬 m 이 있을때 문제 해결하시오\n",
        "m = np.array([[0,1,2,3,4],\n",
        "             [5,6,7,8,9],\n",
        "             [10,11,12,13,14]])\n",
        "#1. 이 행렬에서 값 7을 인덱싱\n",
        "print(m[1,2])\n",
        "print()\n",
        "\n",
        "#2. 이 행렬에서 값 14를 인덱싱\n",
        "print(m[-1][-1])\n",
        "#또는\n",
        "print(m[2][4])\n",
        "print()\n",
        "\n",
        "#3. 이 행렬에서 배열 [6,7]을 슬라이싱\n",
        "print(m[1,1:3])\n",
        "print()\n",
        "\n",
        "#4. 이 행렬에서 배열 [7,12] 슬라이싱\n",
        "print(m[1:, 2])\n",
        "print()\n",
        "\n",
        "#5. 이 행렬에서 배열[[3,4],[8,9]]을 슬라이싱\n",
        "print(m[:2, 3:])"
      ],
      "execution_count": 17,
      "outputs": [
        {
          "output_type": "stream",
          "name": "stdout",
          "text": [
            "7\n",
            "\n",
            "14\n",
            "14\n",
            "\n",
            "[6 7]\n",
            "\n",
            "[ 7 12]\n",
            "\n",
            "[[3 4]\n",
            " [8 9]]\n"
          ]
        }
      ]
    },
    {
      "cell_type": "code",
      "metadata": {
        "colab": {
          "base_uri": "https://localhost:8080/"
        },
        "id": "FfO-bdb-wclh",
        "outputId": "9d9a3a6a-1f81-4e33-ca99-f580518a4dfe"
      },
      "source": [
        "#배열 인덱싱\n",
        "a = np.array([0,1,2,3,4,5,6,7,8,9])\n",
        "idx = np.array([True, False, True, False, True,\n",
        "               False, True, False, True, False])\n",
        "print(a[idx])\n",
        "\n",
        "#조건문 연산을 사용하면 다음과 같이 간단히 쓸 수 있다\n",
        "print(a%2)\n",
        "print(a%2 == 0)\n",
        "print(a[a%2==0])"
      ],
      "execution_count": 18,
      "outputs": [
        {
          "output_type": "stream",
          "name": "stdout",
          "text": [
            "[0 2 4 6 8]\n",
            "[0 1 0 1 0 1 0 1 0 1]\n",
            "[ True False  True False  True False  True False  True False]\n",
            "[0 2 4 6 8]\n"
          ]
        }
      ]
    },
    {
      "cell_type": "code",
      "metadata": {
        "colab": {
          "base_uri": "https://localhost:8080/"
        },
        "id": "8wjwkDbTwvi-",
        "outputId": "bcc57e64-72fd-4b7d-e033-3cc800c71eeb"
      },
      "source": [
        "#정수 배열 인덱싱에서는 인덱스 배열의 원소 각각이\n",
        "#원래 ndarray 객체 원소 하나를 가리키는 인덱스 정수이어야 한다\n",
        "#예를 들어 1차원 배열에서 홀수번재 원소만 골라내는 것은 다음과 같다\n",
        "a = np.array([11,22,33,44,55,66,77,88,99])\n",
        "idx = np.array([0,2,4,6,8])\n",
        "print(a[idx])\n",
        "print()\n",
        "\n",
        "#이때는 배열 인덱스의 크기가 원래의 배열 크기와 달라도 상관없다.\n",
        "#같은 원소를 반복해서 가리키는 경우에는\n",
        "#배열 인덱스가 원래의 배열보다 더 커지기도 한다\n",
        "a = np.array([11,22,33,44,55,66,77,88,99])\n",
        "idx = np.array([0,0,0,0,0,0,1,1,1,1,1,2,2,2,2,2])\n",
        "print(a[idx])"
      ],
      "execution_count": 21,
      "outputs": [
        {
          "output_type": "stream",
          "name": "stdout",
          "text": [
            "[11 33 55 77 99]\n",
            "\n",
            "[11 11 11 11 11 11 22 22 22 22 22 33 33 33 33 33]\n"
          ]
        }
      ]
    },
    {
      "cell_type": "code",
      "metadata": {
        "colab": {
          "base_uri": "https://localhost:8080/"
        },
        "id": "48l02ASuxXA_",
        "outputId": "65b12a95-3e12-465f-e1aa-dac0241baf62"
      },
      "source": [
        "x = np.array([1,2,3,4,5,6,7,8,9,10,\n",
        "             11,12,13,14,15,16,17,18,19,20])\n",
        "#1. 이 배열에서 3의 배수\n",
        "print(x[x%3 == 0])\n",
        "#2. 이 배열에서 4로 나누면 1이 남는 수\n",
        "print(x[x%4 == 1])\n",
        "#3. 이 배열에서 3으로 나누면 나누어지고 4로 나누면 1이 남는 수\n",
        "print(x[(x%3==0) & (x%4==1)])"
      ],
      "execution_count": 22,
      "outputs": [
        {
          "output_type": "stream",
          "name": "stdout",
          "text": [
            "[ 3  6  9 12 15 18]\n",
            "[ 1  5  9 13 17]\n",
            "[9]\n"
          ]
        }
      ]
    },
    {
      "cell_type": "code",
      "metadata": {
        "colab": {
          "base_uri": "https://localhost:8080/"
        },
        "id": "AOGXMf6qxxf8",
        "outputId": "a4e06adc-f9d3-4b4d-80f3-3d3cf12e452c"
      },
      "source": [
        "x = np.array([1,2,3])\n",
        "print(x.dtype)\n",
        "x = np.array([1.0,2.0,3.0])\n",
        "print(x.dtype)\n",
        "x = np.array([1,2,3.0])\n",
        "print(x.dtype)\n",
        "print()\n",
        "\n",
        "x = np.array([1,2,3], dtype='f')    #실수로 받는다\n",
        "print(x.dtype)\n",
        "print(x[0] + x[1])\n",
        "x = np.array([1,2,3], dtype = 'U')    #문자로 받는다\n",
        "print(x.dtype)\n",
        "print(x[0] + x[1])"
      ],
      "execution_count": 25,
      "outputs": [
        {
          "output_type": "stream",
          "name": "stdout",
          "text": [
            "int64\n",
            "float64\n",
            "float64\n",
            "\n",
            "float32\n",
            "3.0\n",
            "<U1\n",
            "12\n"
          ]
        }
      ]
    },
    {
      "cell_type": "code",
      "metadata": {
        "colab": {
          "base_uri": "https://localhost:8080/"
        },
        "id": "OI_HJfyyyS3t",
        "outputId": "1d4c2cc1-8304-4d67-b88b-94dc14b86cdd"
      },
      "source": [
        "#inf : 무한대\n",
        "#nan : 0으로 나눠서 계산 불가\n",
        "print(np.array([0,1,-1,0]) / np.array([1,0,0,0]))\n",
        "print(np.log(0))\n",
        "print(np.exp(-np.inf))"
      ],
      "execution_count": 27,
      "outputs": [
        {
          "output_type": "stream",
          "name": "stdout",
          "text": [
            "[  0.  inf -inf  nan]\n",
            "-inf\n",
            "0.0\n"
          ]
        },
        {
          "output_type": "stream",
          "name": "stderr",
          "text": [
            "/usr/local/lib/python3.7/dist-packages/ipykernel_launcher.py:3: RuntimeWarning: divide by zero encountered in true_divide\n",
            "  This is separate from the ipykernel package so we can avoid doing imports until\n",
            "/usr/local/lib/python3.7/dist-packages/ipykernel_launcher.py:3: RuntimeWarning: invalid value encountered in true_divide\n",
            "  This is separate from the ipykernel package so we can avoid doing imports until\n",
            "/usr/local/lib/python3.7/dist-packages/ipykernel_launcher.py:4: RuntimeWarning: divide by zero encountered in log\n",
            "  after removing the cwd from sys.path.\n"
          ]
        }
      ]
    },
    {
      "cell_type": "code",
      "metadata": {
        "colab": {
          "base_uri": "https://localhost:8080/"
        },
        "id": "o5RAIWY5yp-S",
        "outputId": "799be196-0691-4138-89c7-96890e8756e5"
      },
      "source": [
        "#크기가 정해져 있고 모든 값이 0인 배열을 생성하려면\n",
        "#zeros 명령을 사용한다\n",
        "#인수로는 배열 크기를 뜻하는 정수를 넣는다\n",
        "a = np.zeros(5)\n",
        "print(a)\n",
        "print()\n",
        "\n",
        "#크기를 뜻하는 튜플을 입력하면 다차원 배열도 만들 수 있다\n",
        "b = np.zeros((2,3))\n",
        "print(b)\n",
        "print()\n",
        "\n",
        "c = np.zeros((5,2), dtype='i')\n",
        "print(c)\n",
        "print()\n",
        "\n",
        "d = np.zeros(5, dtype='U4')\n",
        "print(d)\n",
        "print()\n",
        "\n",
        "d[0] = 'abc'\n",
        "d[1] = 'abcd'\n",
        "d[2] = 'ABCDE'\n",
        "print(d)\n",
        "print()\n",
        "\n",
        "#ones를 쓰면 1로 초기화 환다\n",
        "e = np.ones((2,3,4), dtype='i8')\n",
        "print(e)"
      ],
      "execution_count": 28,
      "outputs": [
        {
          "output_type": "stream",
          "name": "stdout",
          "text": [
            "[0. 0. 0. 0. 0.]\n",
            "\n",
            "[[0. 0. 0.]\n",
            " [0. 0. 0.]]\n",
            "\n",
            "[[0 0]\n",
            " [0 0]\n",
            " [0 0]\n",
            " [0 0]\n",
            " [0 0]]\n",
            "\n",
            "['' '' '' '' '']\n",
            "\n",
            "['abc' 'abcd' 'ABCD' '' '']\n",
            "\n",
            "[[[1 1 1 1]\n",
            "  [1 1 1 1]\n",
            "  [1 1 1 1]]\n",
            "\n",
            " [[1 1 1 1]\n",
            "  [1 1 1 1]\n",
            "  [1 1 1 1]]]\n"
          ]
        }
      ]
    },
    {
      "cell_type": "code",
      "metadata": {
        "colab": {
          "base_uri": "https://localhost:8080/"
        },
        "id": "AcLZ2iwbzaIF",
        "outputId": "d9830eb7-8eab-4294-98db-706a1501e90d"
      },
      "source": [
        "#크기를 튜플로 명시하지 않고 다른 배열과 같은 크기의 배열을 생성하고 싶다면\n",
        "#ones_like나 zeros_like 사용\n",
        "f = np.ones_like(b, dtype='f')\n",
        "print(f)\n",
        "print()\n",
        "f = np.zeros_like(b, dtype='f')\n",
        "print(f)"
      ],
      "execution_count": 29,
      "outputs": [
        {
          "output_type": "stream",
          "name": "stdout",
          "text": [
            "[[1. 1. 1.]\n",
            " [1. 1. 1.]]\n",
            "\n",
            "[[0. 0. 0.]\n",
            " [0. 0. 0.]]\n"
          ]
        }
      ]
    },
    {
      "cell_type": "code",
      "metadata": {
        "colab": {
          "base_uri": "https://localhost:8080/"
        },
        "id": "G5SdH0Razp8I",
        "outputId": "ea639271-8fbc-4fad-cf31-a63ac2e7daf7"
      },
      "source": [
        "#배열을 초기화 하는데도 시간이 걸린다\n",
        "#아무 값으로나 만들어 시간을 줄이고 싶다면\n",
        "#empty 사용\n",
        "g = np.empty((4,3))\n",
        "print(g)\n",
        "\n",
        "#unmpy의 range : arange\n",
        "print(np.arange(3,21,2))"
      ],
      "execution_count": 30,
      "outputs": [
        {
          "output_type": "stream",
          "name": "stdout",
          "text": [
            "[[0.00000000e+000 4.65498617e-310 0.00000000e+000]\n",
            " [0.00000000e+000 0.00000000e+000 6.36598737e-314]\n",
            " [0.00000000e+000 0.00000000e+000 0.00000000e+000]\n",
            " [0.00000000e+000 0.00000000e+000 0.00000000e+000]]\n",
            "[ 3  5  7  9 11 13 15 17 19]\n"
          ]
        }
      ]
    },
    {
      "cell_type": "code",
      "metadata": {
        "colab": {
          "base_uri": "https://localhost:8080/"
        },
        "id": "V_CZnodm0PIH",
        "outputId": "c067cbb0-2287-455c-f5f2-5c5b0629b1af"
      },
      "source": [
        "#linspace나 logspace는 지정한 구간의 수 만큼 분할\n",
        "print(np.linspace(0,100,5))    #시작, 끝(포함), 갯수\n",
        "print(np.logspace(0.1, 1, 10))\n",
        "print()\n",
        "\n",
        "#2차원 배열의 전치연산은 행과 열을 바꾸는 작업\n",
        "#이는 배열의 T속성으로 구할 수 있다\n",
        "#메서드가 아닌 속성이라는 점에 유의\n",
        "A = np.array([[1,2,3],[4,5,6]])\n",
        "print(A)\n",
        "print()\n",
        "print(A.T)\n",
        "print()\n",
        "\n",
        "a = np.arange(12)\n",
        "print(a)\n",
        "print()\n",
        "\n",
        "b = a.reshape(3,4)    #3개의 배열로 원소 수는 4개, 이렇게 할거면 원본 배열의 숫자와 맞아야 한다\n",
        "print(b)\n",
        "print()\n",
        "\n",
        "print(a.reshape(3,-1))    #3개의 배열로 원소수는 알아서(원본 배열의 숫자와 안맞아도 된다)\n",
        "print()\n",
        "\n",
        "print(a.reshape(2,2,-1))    #3차원, 2차원 2개, 1차원 개수는 알아서\n",
        "print()\n",
        "\n",
        "a = a.reshape(2,-1,2)\n",
        "print(a)"
      ],
      "execution_count": 31,
      "outputs": [
        {
          "output_type": "stream",
          "name": "stdout",
          "text": [
            "[  0.  25.  50.  75. 100.]\n",
            "[ 1.25892541  1.58489319  1.99526231  2.51188643  3.16227766  3.98107171\n",
            "  5.01187234  6.30957344  7.94328235 10.        ]\n",
            "\n",
            "[[1 2 3]\n",
            " [4 5 6]]\n",
            "\n",
            "[[1 4]\n",
            " [2 5]\n",
            " [3 6]]\n",
            "\n",
            "[ 0  1  2  3  4  5  6  7  8  9 10 11]\n",
            "\n",
            "[[ 0  1  2  3]\n",
            " [ 4  5  6  7]\n",
            " [ 8  9 10 11]]\n",
            "\n",
            "[[ 0  1  2  3]\n",
            " [ 4  5  6  7]\n",
            " [ 8  9 10 11]]\n",
            "\n",
            "[[[ 0  1  2]\n",
            "  [ 3  4  5]]\n",
            "\n",
            " [[ 6  7  8]\n",
            "  [ 9 10 11]]]\n",
            "\n",
            "[[[ 0  1]\n",
            "  [ 2  3]\n",
            "  [ 4  5]]\n",
            "\n",
            " [[ 6  7]\n",
            "  [ 8  9]\n",
            "  [10 11]]]\n"
          ]
        }
      ]
    },
    {
      "cell_type": "code",
      "metadata": {
        "colab": {
          "base_uri": "https://localhost:8080/"
        },
        "id": "YibfhWCN2fwj",
        "outputId": "c09e26a2-b80a-4bc8-92ed-995c0a44d4ff"
      },
      "source": [
        "#다차원 배열을 1차원 배열로 만드는 메서드\n",
        "#flatten()\n",
        "#ravel()\n",
        "print(a)\n",
        "print()\n",
        "print(a.flatten())\n",
        "print(a.ravel())\n",
        "print()\n",
        "print(a)"
      ],
      "execution_count": 32,
      "outputs": [
        {
          "output_type": "stream",
          "name": "stdout",
          "text": [
            "[[[ 0  1]\n",
            "  [ 2  3]\n",
            "  [ 4  5]]\n",
            "\n",
            " [[ 6  7]\n",
            "  [ 8  9]\n",
            "  [10 11]]]\n",
            "\n",
            "[ 0  1  2  3  4  5  6  7  8  9 10 11]\n",
            "[ 0  1  2  3  4  5  6  7  8  9 10 11]\n",
            "\n",
            "[[[ 0  1]\n",
            "  [ 2  3]\n",
            "  [ 4  5]]\n",
            "\n",
            " [[ 6  7]\n",
            "  [ 8  9]\n",
            "  [10 11]]]\n"
          ]
        }
      ]
    },
    {
      "cell_type": "code",
      "metadata": {
        "colab": {
          "base_uri": "https://localhost:8080/"
        },
        "id": "LeOOhKcn2yVM",
        "outputId": "237bd56c-fb28-4c05-ceb0-2a4d5310e13a"
      },
      "source": [
        "#최소제곱법의 a와 b를 구하라\n",
        "#a = ((x-x의 평균)*(y-y의평균)의합) / (x-x평균)^2\n",
        "#b = y의 평균 - (x의 평균 * a)\n",
        "x = np.array([2,4,6,8])\n",
        "y = np.array([81, 93, 91, 97])\n",
        "X = sum(x) / 4    #x의 평균\n",
        "Y = sum(y) / 4    #y의 평균\n",
        "a = sum((x-X)*(y-Y))/sum((x-X)*(x-X))\n",
        "b = int(Y - (X*a))    #b니까 결과가 정수가 되게 나오게 한거지 별 의미 없을거 같다\n",
        "\n",
        "print(a)\n",
        "print(b)\n",
        "print('y =',a,'x +',b)"
      ],
      "execution_count": 33,
      "outputs": [
        {
          "output_type": "stream",
          "name": "stdout",
          "text": [
            "2.3\n",
            "79\n",
            "y = 2.3 x + 79\n"
          ]
        }
      ]
    }
  ]
}