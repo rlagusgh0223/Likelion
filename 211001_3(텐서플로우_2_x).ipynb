{
  "nbformat": 4,
  "nbformat_minor": 0,
  "metadata": {
    "colab": {
      "name": "211001_3(텐서플로우 2.x)",
      "provenance": [],
      "authorship_tag": "ABX9TyOR+x9UsJMsxgQhXJLnT2iP",
      "include_colab_link": true
    },
    "kernelspec": {
      "name": "python3",
      "display_name": "Python 3"
    },
    "language_info": {
      "name": "python"
    }
  },
  "cells": [
    {
      "cell_type": "markdown",
      "metadata": {
        "id": "view-in-github",
        "colab_type": "text"
      },
      "source": [
        "<a href=\"https://colab.research.google.com/github/rlagusgh0223/Likelion/blob/main/211001_3(%ED%85%90%EC%84%9C%ED%94%8C%EB%A1%9C%EC%9A%B0_2_x).ipynb\" target=\"_parent\"><img src=\"https://colab.research.google.com/assets/colab-badge.svg\" alt=\"Open In Colab\"/></a>"
      ]
    },
    {
      "cell_type": "code",
      "metadata": {
        "colab": {
          "base_uri": "https://localhost:8080/"
        },
        "id": "8C-nRfIzD1tX",
        "outputId": "c07297ac-a5e5-4ae8-e9ae-652bd5ef6372"
      },
      "source": [
        "#텐서플로우 코어의 프로그래밍 과정\n",
        "# 1.x 와 2.x 비교\n",
        "import tensorflow as tf\n",
        "\n",
        "a = tf.constant(7.0, name = 'data1')\n",
        "b = tf.constant(3.0, name = 'data2')\n",
        "c = tf.constant(2.0, name = 'data3')\n",
        "\n",
        "v = a * b / c\n",
        "\n",
        "print(v)    #v는 텐서이나 연산이 이루어진 상태\n",
        "print(v.numpy())    #v의 numpy arr변환"
      ],
      "execution_count": 2,
      "outputs": [
        {
          "output_type": "stream",
          "name": "stdout",
          "text": [
            "tf.Tensor(10.5, shape=(), dtype=float32)\n",
            "10.5\n"
          ]
        }
      ]
    }
  ]
}