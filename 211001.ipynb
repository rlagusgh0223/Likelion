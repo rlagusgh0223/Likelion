{
  "nbformat": 4,
  "nbformat_minor": 0,
  "metadata": {
    "colab": {
      "name": "211001",
      "provenance": [],
      "authorship_tag": "ABX9TyPuHkcWmV2OUfac4oo+PtMj"
    },
    "kernelspec": {
      "name": "python3",
      "display_name": "Python 3"
    },
    "language_info": {
      "name": "python"
    }
  },
  "cells": [
    {
      "cell_type": "code",
      "metadata": {
        "colab": {
          "base_uri": "https://localhost:8080/",
          "height": 1000
        },
        "id": "FPbXPOpi2oAC",
        "outputId": "22761e20-0305-4665-c4cd-3e7d7149590d"
      },
      "source": [
        "#물고기 사육주수 data를 통해 경사하강법 구현하고 결과 확인해보기\n",
        "#a = 0.1756, b = -0.03392와 같거나 유사값이 나와야 한다\n",
        "import numpy as np\n",
        "import pandas as pd\n",
        "import matplotlib.pyplot as plt\n",
        "\n",
        "data = [[1,0.2], [2,0.3], [3,0.5], [4,0.6], [5,0.9], [6,0.95], [7,1.1], [8,1.5]]\n",
        "x = [i[0] for i in data]\n",
        "y = [i[1] for i in data]\n",
        "\n",
        "#그래프로 나타내기\n",
        "plt.figure(figsize = (8, 5))\n",
        "plt.scatter(x, y)\n",
        "plt.show()\n",
        "\n",
        "#a, b 초기화\n",
        "a = 0\n",
        "b = 0\n",
        "\n",
        "#리스트로 되어있는 x와 y의 값 넘파이 배열로 바꾸기\n",
        "X = np.array(x)\n",
        "Y = np.array(y)\n",
        "\n",
        "#학습률 정하기\n",
        "lr = 0.003    #이걸 어떻게 설정하는지에 따라 결과가 달라진다\n",
        "\n",
        "#몇 번 반복될지 설정\n",
        "epochs = 5001    #5000번 쯤에서 값이 수렴하는것 같다\n",
        "\n",
        "#경사하강법 시작\n",
        "for i in range(epochs):\n",
        "  a_diff = 2/len(X) * sum((a*X + b - Y) * X)\n",
        "  b_diff = 2/len(X) * sum(a*X + b - Y)\n",
        "\n",
        "  #a, b의 값 변경\n",
        "  a = a - lr * a_diff\n",
        "  b = b - lr * b_diff\n",
        "\n",
        "  if i%100 == 0:\n",
        "    print(\"epoch = %.f, 기울기 = %.04f, 절편 = %.04f\" %(i,a,b))\n",
        "\n",
        "#그래프로 다시 그리기\n",
        "y_pred = a * X + b    #예측값\n",
        "plt.scatter(x, y)\n",
        "plt.plot(X, y_pred)\n",
        "plt.show()"
      ],
      "execution_count": 1,
      "outputs": [
        {
          "output_type": "display_data",
          "data": {
            "image/png": "[encoded data removed]",
            "text/plain": [
              "<Figure size 576x360 with 1 Axes>"
            ]
          },
          "metadata": {
            "needs_background": "light"
          }
        },
        {
          "output_type": "stream",
          "name": "stdout",
          "text": [
            "epoch = 0, 기울기 = 0.0260, 절편 = 0.0045\n",
            "epoch = 100, 기울기 = 0.1656, 절편 = 0.0220\n",
            "epoch = 200, 기울기 = 0.1668, 절편 = 0.0157\n",
            "epoch = 300, 기울기 = 0.1678, 절편 = 0.0101\n",
            "epoch = 400, 기울기 = 0.1686, 절편 = 0.0051\n",
            "epoch = 500, 기울기 = 0.1694, 절편 = 0.0007\n",
            "epoch = 600, 기울기 = 0.1701, 절편 = -0.0032\n",
            "epoch = 700, 기울기 = 0.1707, 절편 = -0.0067\n",
            "epoch = 800, 기울기 = 0.1713, 절편 = -0.0097\n",
            "epoch = 900, 기울기 = 0.1718, 절편 = -0.0125\n",
            "epoch = 1000, 기울기 = 0.1722, 절편 = -0.0149\n",
            "epoch = 1100, 기울기 = 0.1726, 절편 = -0.0170\n",
            "epoch = 1200, 기울기 = 0.1729, 절편 = -0.0190\n",
            "epoch = 1300, 기울기 = 0.1732, 절편 = -0.0206\n",
            "epoch = 1400, 기울기 = 0.1735, 절편 = -0.0221\n",
            "epoch = 1500, 기울기 = 0.1737, 절편 = -0.0235\n",
            "epoch = 1600, 기울기 = 0.1739, 절편 = -0.0247\n",
            "epoch = 1700, 기울기 = 0.1741, 절편 = -0.0257\n",
            "epoch = 1800, 기울기 = 0.1743, 절편 = -0.0266\n",
            "epoch = 1900, 기울기 = 0.1744, 절편 = -0.0275\n",
            "epoch = 2000, 기울기 = 0.1746, 절편 = -0.0282\n",
            "epoch = 2100, 기울기 = 0.1747, 절편 = -0.0288\n",
            "epoch = 2200, 기울기 = 0.1748, 절편 = -0.0294\n",
            "epoch = 2300, 기울기 = 0.1749, 절편 = -0.0299\n",
            "epoch = 2400, 기울기 = 0.1750, 절편 = -0.0304\n",
            "epoch = 2500, 기울기 = 0.1750, 절편 = -0.0308\n",
            "epoch = 2600, 기울기 = 0.1751, 절편 = -0.0311\n",
            "epoch = 2700, 기울기 = 0.1752, 절편 = -0.0314\n",
            "epoch = 2800, 기울기 = 0.1752, 절편 = -0.0317\n",
            "epoch = 2900, 기울기 = 0.1752, 절편 = -0.0320\n",
            "epoch = 3000, 기울기 = 0.1753, 절편 = -0.0322\n",
            "epoch = 3100, 기울기 = 0.1753, 절편 = -0.0324\n",
            "epoch = 3200, 기울기 = 0.1754, 절편 = -0.0326\n",
            "epoch = 3300, 기울기 = 0.1754, 절편 = -0.0327\n",
            "epoch = 3400, 기울기 = 0.1754, 절편 = -0.0329\n",
            "epoch = 3500, 기울기 = 0.1754, 절편 = -0.0330\n",
            "epoch = 3600, 기울기 = 0.1754, 절편 = -0.0331\n",
            "epoch = 3700, 기울기 = 0.1755, 절편 = -0.0332\n",
            "epoch = 3800, 기울기 = 0.1755, 절편 = -0.0333\n",
            "epoch = 3900, 기울기 = 0.1755, 절편 = -0.0333\n",
            "epoch = 4000, 기울기 = 0.1755, 절편 = -0.0334\n",
            "epoch = 4100, 기울기 = 0.1755, 절편 = -0.0335\n",
            "epoch = 4200, 기울기 = 0.1755, 절편 = -0.0335\n",
            "epoch = 4300, 기울기 = 0.1755, 절편 = -0.0336\n",
            "epoch = 4400, 기울기 = 0.1755, 절편 = -0.0336\n",
            "epoch = 4500, 기울기 = 0.1755, 절편 = -0.0336\n",
            "epoch = 4600, 기울기 = 0.1755, 절편 = -0.0337\n",
            "epoch = 4700, 기울기 = 0.1756, 절편 = -0.0337\n",
            "epoch = 4800, 기울기 = 0.1756, 절편 = -0.0337\n",
            "epoch = 4900, 기울기 = 0.1756, 절편 = -0.0338\n",
            "epoch = 5000, 기울기 = 0.1756, 절편 = -0.0338\n"
          ]
        },
        {
          "output_type": "display_data",
          "data": {
            "image/png": "[encoded data removed]",
            "text/plain": [
              "<Figure size 432x288 with 1 Axes>"
            ]
          },
          "metadata": {
            "needs_background": "light"
          }
        }
      ]
    },
    {
      "cell_type": "code",
      "metadata": {
        "colab": {
          "base_uri": "https://localhost:8080/"
        },
        "id": "xwqDUgPz5MYH",
        "outputId": "46cd9e27-ab71-44b6-99aa-b123b92b5fa4"
      },
      "source": [
        "#텐서플로우 사용\n",
        "#Tensor로 이루어진 결과는 Session 안에서 돌아가야 실행한다\n",
        "\n",
        "#import tensorflow as tf <- 이렇게 하면 Session()없다고 에러 뜬다\n",
        "# 1.x에서 쓰던 코딩은 2.x에서는 대부분 안된다\n",
        "\n",
        "import tensorflow.compat.v1 as tf    # 1.x 버전을 임포트\n",
        "tf.disable_v2_behavior()             # 2.x 버전을 비활성화\n",
        "\n",
        "a = tf.constant(7.0, name = 'data1')\n",
        "b = tf.constant(3.0, name = 'data2')\n",
        "c = tf.constant(2.0, name = 'data3')\n",
        "\n",
        "v = a * b / c\n",
        "\n",
        "print(v)\n",
        "with tf.Session() as sess:\n",
        "  sess.run(tf.global_variables_initializer())\n",
        "  print(sess.run(v))    #warning은 무시한다"
      ],
      "execution_count": 2,
      "outputs": [
        {
          "output_type": "stream",
          "name": "stdout",
          "text": [
            "WARNING:tensorflow:From /usr/local/lib/python3.7/dist-packages/tensorflow/python/compat/v2_compat.py:101: disable_resource_variables (from tensorflow.python.ops.variable_scope) is deprecated and will be removed in a future version.\n",
            "Instructions for updating:\n",
            "non-resource variables are not supported in the long term\n",
            "Tensor(\"truediv:0\", shape=(), dtype=float32)\n",
            "10.5\n"
          ]
        }
      ]
    },
    {
      "cell_type": "code",
      "metadata": {
        "id": "LuHdxQ1D57fP"
      },
      "source": [
        ""
      ],
      "execution_count": null,
      "outputs": []
    }
  ]
}